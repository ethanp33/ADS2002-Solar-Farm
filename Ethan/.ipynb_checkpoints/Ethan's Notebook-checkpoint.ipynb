{
 "cells": [
  {
   "cell_type": "markdown",
   "metadata": {},
   "source": [
    "# Initial Cleaning"
   ]
  },
  {
   "cell_type": "code",
   "execution_count": 155,
   "metadata": {},
   "outputs": [],
   "source": [
    "# Imports\n",
    "import pandas as pd\n",
    "import matplotlib.pyplot as plt\n",
    "from matplotlib.pyplot import cm\n",
    "import numpy as np\n",
    "import copy\n",
    "from scipy.signal import find_peaks"
   ]
  },
  {
   "cell_type": "code",
   "execution_count": 156,
   "metadata": {},
   "outputs": [],
   "source": [
    "# Reading CSV files\n",
    "demand_df = pd.read_csv(\"demand.csv\", parse_dates=[\"Date\"])\n",
    "df_price = pd.read_csv(\"price.csv\", parse_dates=[\"Date\"])\n",
    "df_weather = pd.read_csv(\"weather.csv\", parse_dates=[\"Date\"])"
   ]
  },
  {
   "cell_type": "code",
   "execution_count": 157,
   "metadata": {
    "scrolled": false
   },
   "outputs": [
    {
     "data": {
      "text/html": [
       "<div>\n",
       "<style scoped>\n",
       "    .dataframe tbody tr th:only-of-type {\n",
       "        vertical-align: middle;\n",
       "    }\n",
       "\n",
       "    .dataframe tbody tr th {\n",
       "        vertical-align: top;\n",
       "    }\n",
       "\n",
       "    .dataframe thead th {\n",
       "        text-align: right;\n",
       "    }\n",
       "</style>\n",
       "<table border=\"1\" class=\"dataframe\">\n",
       "  <thead>\n",
       "    <tr style=\"text-align: right;\">\n",
       "      <th></th>\n",
       "      <th>Date</th>\n",
       "      <th>Building0</th>\n",
       "      <th>Building1</th>\n",
       "      <th>Building3</th>\n",
       "      <th>Building4</th>\n",
       "      <th>Building5</th>\n",
       "      <th>Building6</th>\n",
       "      <th>Solar0</th>\n",
       "      <th>Solar1</th>\n",
       "      <th>Solar2</th>\n",
       "      <th>Solar3</th>\n",
       "      <th>Solar4</th>\n",
       "      <th>Solar5</th>\n",
       "    </tr>\n",
       "  </thead>\n",
       "  <tbody>\n",
       "    <tr>\n",
       "      <th>0</th>\n",
       "      <td>2016-07-03 21:30:00</td>\n",
       "      <td>283.8</td>\n",
       "      <td>NaN</td>\n",
       "      <td>581.0</td>\n",
       "      <td>NaN</td>\n",
       "      <td>NaN</td>\n",
       "      <td>NaN</td>\n",
       "      <td>NaN</td>\n",
       "      <td>NaN</td>\n",
       "      <td>NaN</td>\n",
       "      <td>NaN</td>\n",
       "      <td>NaN</td>\n",
       "      <td>NaN</td>\n",
       "    </tr>\n",
       "    <tr>\n",
       "      <th>1</th>\n",
       "      <td>2016-07-03 21:45:00</td>\n",
       "      <td>283.8</td>\n",
       "      <td>NaN</td>\n",
       "      <td>581.0</td>\n",
       "      <td>NaN</td>\n",
       "      <td>NaN</td>\n",
       "      <td>NaN</td>\n",
       "      <td>NaN</td>\n",
       "      <td>NaN</td>\n",
       "      <td>NaN</td>\n",
       "      <td>NaN</td>\n",
       "      <td>NaN</td>\n",
       "      <td>NaN</td>\n",
       "    </tr>\n",
       "    <tr>\n",
       "      <th>2</th>\n",
       "      <td>2016-07-03 22:00:00</td>\n",
       "      <td>283.8</td>\n",
       "      <td>NaN</td>\n",
       "      <td>581.0</td>\n",
       "      <td>NaN</td>\n",
       "      <td>NaN</td>\n",
       "      <td>NaN</td>\n",
       "      <td>NaN</td>\n",
       "      <td>NaN</td>\n",
       "      <td>NaN</td>\n",
       "      <td>NaN</td>\n",
       "      <td>NaN</td>\n",
       "      <td>NaN</td>\n",
       "    </tr>\n",
       "    <tr>\n",
       "      <th>3</th>\n",
       "      <td>2016-07-03 22:15:00</td>\n",
       "      <td>606.0</td>\n",
       "      <td>NaN</td>\n",
       "      <td>624.0</td>\n",
       "      <td>NaN</td>\n",
       "      <td>NaN</td>\n",
       "      <td>NaN</td>\n",
       "      <td>NaN</td>\n",
       "      <td>NaN</td>\n",
       "      <td>NaN</td>\n",
       "      <td>NaN</td>\n",
       "      <td>NaN</td>\n",
       "      <td>NaN</td>\n",
       "    </tr>\n",
       "    <tr>\n",
       "      <th>4</th>\n",
       "      <td>2016-07-03 22:30:00</td>\n",
       "      <td>606.0</td>\n",
       "      <td>NaN</td>\n",
       "      <td>624.0</td>\n",
       "      <td>NaN</td>\n",
       "      <td>NaN</td>\n",
       "      <td>NaN</td>\n",
       "      <td>NaN</td>\n",
       "      <td>NaN</td>\n",
       "      <td>NaN</td>\n",
       "      <td>NaN</td>\n",
       "      <td>NaN</td>\n",
       "      <td>NaN</td>\n",
       "    </tr>\n",
       "    <tr>\n",
       "      <th>...</th>\n",
       "      <td>...</td>\n",
       "      <td>...</td>\n",
       "      <td>...</td>\n",
       "      <td>...</td>\n",
       "      <td>...</td>\n",
       "      <td>...</td>\n",
       "      <td>...</td>\n",
       "      <td>...</td>\n",
       "      <td>...</td>\n",
       "      <td>...</td>\n",
       "      <td>...</td>\n",
       "      <td>...</td>\n",
       "      <td>...</td>\n",
       "    </tr>\n",
       "    <tr>\n",
       "      <th>148805</th>\n",
       "      <td>2020-09-30 22:45:00</td>\n",
       "      <td>96.9</td>\n",
       "      <td>14.4</td>\n",
       "      <td>389.0</td>\n",
       "      <td>NaN</td>\n",
       "      <td>NaN</td>\n",
       "      <td>35.6</td>\n",
       "      <td>29.67</td>\n",
       "      <td>6.68</td>\n",
       "      <td>6.34</td>\n",
       "      <td>5.49</td>\n",
       "      <td>4.55</td>\n",
       "      <td>25.28</td>\n",
       "    </tr>\n",
       "    <tr>\n",
       "      <th>148806</th>\n",
       "      <td>2020-09-30 23:00:00</td>\n",
       "      <td>96.9</td>\n",
       "      <td>18.8</td>\n",
       "      <td>389.0</td>\n",
       "      <td>1.0</td>\n",
       "      <td>NaN</td>\n",
       "      <td>38.6</td>\n",
       "      <td>29.94</td>\n",
       "      <td>6.71</td>\n",
       "      <td>6.39</td>\n",
       "      <td>5.65</td>\n",
       "      <td>4.57</td>\n",
       "      <td>25.30</td>\n",
       "    </tr>\n",
       "    <tr>\n",
       "      <th>148807</th>\n",
       "      <td>2020-09-30 23:15:00</td>\n",
       "      <td>37.4</td>\n",
       "      <td>4.5</td>\n",
       "      <td>415.0</td>\n",
       "      <td>NaN</td>\n",
       "      <td>NaN</td>\n",
       "      <td>38.6</td>\n",
       "      <td>34.02</td>\n",
       "      <td>8.13</td>\n",
       "      <td>7.71</td>\n",
       "      <td>6.83</td>\n",
       "      <td>5.32</td>\n",
       "      <td>28.62</td>\n",
       "    </tr>\n",
       "    <tr>\n",
       "      <th>148808</th>\n",
       "      <td>2020-09-30 23:30:00</td>\n",
       "      <td>37.4</td>\n",
       "      <td>9.6</td>\n",
       "      <td>415.0</td>\n",
       "      <td>NaN</td>\n",
       "      <td>NaN</td>\n",
       "      <td>38.6</td>\n",
       "      <td>38.10</td>\n",
       "      <td>9.55</td>\n",
       "      <td>9.03</td>\n",
       "      <td>8.02</td>\n",
       "      <td>6.08</td>\n",
       "      <td>31.94</td>\n",
       "    </tr>\n",
       "    <tr>\n",
       "      <th>148809</th>\n",
       "      <td>2020-09-30 23:45:00</td>\n",
       "      <td>37.4</td>\n",
       "      <td>14.0</td>\n",
       "      <td>415.0</td>\n",
       "      <td>NaN</td>\n",
       "      <td>NaN</td>\n",
       "      <td>38.6</td>\n",
       "      <td>39.88</td>\n",
       "      <td>10.12</td>\n",
       "      <td>9.67</td>\n",
       "      <td>8.62</td>\n",
       "      <td>6.33</td>\n",
       "      <td>32.92</td>\n",
       "    </tr>\n",
       "  </tbody>\n",
       "</table>\n",
       "<p>148810 rows × 13 columns</p>\n",
       "</div>"
      ],
      "text/plain": [
       "                      Date  Building0  Building1  Building3  Building4  \\\n",
       "0      2016-07-03 21:30:00      283.8        NaN      581.0        NaN   \n",
       "1      2016-07-03 21:45:00      283.8        NaN      581.0        NaN   \n",
       "2      2016-07-03 22:00:00      283.8        NaN      581.0        NaN   \n",
       "3      2016-07-03 22:15:00      606.0        NaN      624.0        NaN   \n",
       "4      2016-07-03 22:30:00      606.0        NaN      624.0        NaN   \n",
       "...                    ...        ...        ...        ...        ...   \n",
       "148805 2020-09-30 22:45:00       96.9       14.4      389.0        NaN   \n",
       "148806 2020-09-30 23:00:00       96.9       18.8      389.0        1.0   \n",
       "148807 2020-09-30 23:15:00       37.4        4.5      415.0        NaN   \n",
       "148808 2020-09-30 23:30:00       37.4        9.6      415.0        NaN   \n",
       "148809 2020-09-30 23:45:00       37.4       14.0      415.0        NaN   \n",
       "\n",
       "        Building5  Building6  Solar0  Solar1  Solar2  Solar3  Solar4  Solar5  \n",
       "0             NaN        NaN     NaN     NaN     NaN     NaN     NaN     NaN  \n",
       "1             NaN        NaN     NaN     NaN     NaN     NaN     NaN     NaN  \n",
       "2             NaN        NaN     NaN     NaN     NaN     NaN     NaN     NaN  \n",
       "3             NaN        NaN     NaN     NaN     NaN     NaN     NaN     NaN  \n",
       "4             NaN        NaN     NaN     NaN     NaN     NaN     NaN     NaN  \n",
       "...           ...        ...     ...     ...     ...     ...     ...     ...  \n",
       "148805        NaN       35.6   29.67    6.68    6.34    5.49    4.55   25.28  \n",
       "148806        NaN       38.6   29.94    6.71    6.39    5.65    4.57   25.30  \n",
       "148807        NaN       38.6   34.02    8.13    7.71    6.83    5.32   28.62  \n",
       "148808        NaN       38.6   38.10    9.55    9.03    8.02    6.08   31.94  \n",
       "148809        NaN       38.6   39.88   10.12    9.67    8.62    6.33   32.92  \n",
       "\n",
       "[148810 rows x 13 columns]"
      ]
     },
     "execution_count": 157,
     "metadata": {},
     "output_type": "execute_result"
    }
   ],
   "source": [
    "demand_df"
   ]
  },
  {
   "cell_type": "code",
   "execution_count": 158,
   "metadata": {},
   "outputs": [],
   "source": [
    "# Hai's Filling Missing Values Function\n",
    "def fill_missing(df):\n",
    "    arr = []\n",
    "    for col in df.columns:\n",
    "        df[col] = df[col].fillna(df.mean(axis=1))\n",
    "        arr += list(df[col])\n",
    "    return arr"
   ]
  },
  {
   "cell_type": "code",
   "execution_count": 159,
   "metadata": {},
   "outputs": [
    {
     "name": "stdout",
     "output_type": "stream",
     "text": [
      "number of 15 min intervals in year 1: 35040\n",
      "number of 15 min intervals in year 2: 35040\n",
      "number of 15 min intervals in year 3: 35040\n",
      "number of 15 min intervals in year 4: 35136\n"
     ]
    },
    {
     "data": {
      "image/png": "[encoded data removed]",
      "text/plain": [
       "<Figure size 1440x288 with 4 Axes>"
      ]
     },
     "metadata": {
      "needs_background": "light"
     },
     "output_type": "display_data"
    },
    {
     "data": {
      "text/html": [
       "<div>\n",
       "<style scoped>\n",
       "    .dataframe tbody tr th:only-of-type {\n",
       "        vertical-align: middle;\n",
       "    }\n",
       "\n",
       "    .dataframe tbody tr th {\n",
       "        vertical-align: top;\n",
       "    }\n",
       "\n",
       "    .dataframe thead th {\n",
       "        text-align: right;\n",
       "    }\n",
       "</style>\n",
       "<table border=\"1\" class=\"dataframe\">\n",
       "  <thead>\n",
       "    <tr style=\"text-align: right;\">\n",
       "      <th></th>\n",
       "      <th>Date</th>\n",
       "      <th>Building0</th>\n",
       "      <th>Building1</th>\n",
       "      <th>Building3</th>\n",
       "      <th>Building4</th>\n",
       "      <th>Building5</th>\n",
       "      <th>Building6</th>\n",
       "      <th>Solar0</th>\n",
       "      <th>Solar1</th>\n",
       "      <th>Solar2</th>\n",
       "      <th>Solar3</th>\n",
       "      <th>Solar4</th>\n",
       "      <th>Solar5</th>\n",
       "    </tr>\n",
       "  </thead>\n",
       "  <tbody>\n",
       "    <tr>\n",
       "      <th>0</th>\n",
       "      <td>2016-07-03 21:30:00</td>\n",
       "      <td>283.8</td>\n",
       "      <td>NaN</td>\n",
       "      <td>581.0</td>\n",
       "      <td>NaN</td>\n",
       "      <td>NaN</td>\n",
       "      <td>NaN</td>\n",
       "      <td>NaN</td>\n",
       "      <td>NaN</td>\n",
       "      <td>NaN</td>\n",
       "      <td>NaN</td>\n",
       "      <td>NaN</td>\n",
       "      <td>NaN</td>\n",
       "    </tr>\n",
       "    <tr>\n",
       "      <th>1</th>\n",
       "      <td>2016-07-03 21:45:00</td>\n",
       "      <td>283.8</td>\n",
       "      <td>NaN</td>\n",
       "      <td>581.0</td>\n",
       "      <td>NaN</td>\n",
       "      <td>NaN</td>\n",
       "      <td>NaN</td>\n",
       "      <td>NaN</td>\n",
       "      <td>NaN</td>\n",
       "      <td>NaN</td>\n",
       "      <td>NaN</td>\n",
       "      <td>NaN</td>\n",
       "      <td>NaN</td>\n",
       "    </tr>\n",
       "    <tr>\n",
       "      <th>2</th>\n",
       "      <td>2016-07-03 22:00:00</td>\n",
       "      <td>283.8</td>\n",
       "      <td>NaN</td>\n",
       "      <td>581.0</td>\n",
       "      <td>NaN</td>\n",
       "      <td>NaN</td>\n",
       "      <td>NaN</td>\n",
       "      <td>NaN</td>\n",
       "      <td>NaN</td>\n",
       "      <td>NaN</td>\n",
       "      <td>NaN</td>\n",
       "      <td>NaN</td>\n",
       "      <td>NaN</td>\n",
       "    </tr>\n",
       "    <tr>\n",
       "      <th>3</th>\n",
       "      <td>2016-07-03 22:15:00</td>\n",
       "      <td>606.0</td>\n",
       "      <td>NaN</td>\n",
       "      <td>624.0</td>\n",
       "      <td>NaN</td>\n",
       "      <td>NaN</td>\n",
       "      <td>NaN</td>\n",
       "      <td>NaN</td>\n",
       "      <td>NaN</td>\n",
       "      <td>NaN</td>\n",
       "      <td>NaN</td>\n",
       "      <td>NaN</td>\n",
       "      <td>NaN</td>\n",
       "    </tr>\n",
       "    <tr>\n",
       "      <th>4</th>\n",
       "      <td>2016-07-03 22:30:00</td>\n",
       "      <td>606.0</td>\n",
       "      <td>NaN</td>\n",
       "      <td>624.0</td>\n",
       "      <td>NaN</td>\n",
       "      <td>NaN</td>\n",
       "      <td>NaN</td>\n",
       "      <td>NaN</td>\n",
       "      <td>NaN</td>\n",
       "      <td>NaN</td>\n",
       "      <td>NaN</td>\n",
       "      <td>NaN</td>\n",
       "      <td>NaN</td>\n",
       "    </tr>\n",
       "  </tbody>\n",
       "</table>\n",
       "</div>"
      ],
      "text/plain": [
       "                 Date  Building0  Building1  Building3  Building4  Building5  \\\n",
       "0 2016-07-03 21:30:00      283.8        NaN      581.0        NaN        NaN   \n",
       "1 2016-07-03 21:45:00      283.8        NaN      581.0        NaN        NaN   \n",
       "2 2016-07-03 22:00:00      283.8        NaN      581.0        NaN        NaN   \n",
       "3 2016-07-03 22:15:00      606.0        NaN      624.0        NaN        NaN   \n",
       "4 2016-07-03 22:30:00      606.0        NaN      624.0        NaN        NaN   \n",
       "\n",
       "   Building6  Solar0  Solar1  Solar2  Solar3  Solar4  Solar5  \n",
       "0        NaN     NaN     NaN     NaN     NaN     NaN     NaN  \n",
       "1        NaN     NaN     NaN     NaN     NaN     NaN     NaN  \n",
       "2        NaN     NaN     NaN     NaN     NaN     NaN     NaN  \n",
       "3        NaN     NaN     NaN     NaN     NaN     NaN     NaN  \n",
       "4        NaN     NaN     NaN     NaN     NaN     NaN     NaN  "
      ]
     },
     "execution_count": 159,
     "metadata": {},
     "output_type": "execute_result"
    }
   ],
   "source": [
    "#create figure and subplots\n",
    "fig, axes = plt.subplots(2, 2, figsize=(20, 4), sharey=True)\n",
    "color=cm.rainbow(np.linspace(0,1,6))\n",
    "years = ['2016', '2017', '2018', '2019', '2020']\n",
    "i = 1\n",
    "building_df = pd.DataFrame()\n",
    "for ax, c in zip(axes.flatten(), color):\n",
    "    #generate start and end dates\n",
    "    start_date = years[i-1] + '-09-30 23:45:00'\n",
    "    end_date = years[i] + '-09-30 23:45:00'\n",
    "    mask = (demand_df['Date'] > start_date) & (demand_df['Date'] <= end_date)\n",
    "    ax.plot(demand_df.loc[mask]['Date'], demand_df.loc[mask]['Building0'], color=c)\n",
    "    building_df['year'+str(i)] = copy.copy(demand_df.loc[mask]['Building0'].reset_index(drop=True))\n",
    "    print(\"number of 15 min intervals in year \"+str(i)+\": \"+str(len(demand_df.loc[mask]['Building0'])))\n",
    "    i += 1\n",
    "fig.suptitle(\"Annual Demand Plot\")\n",
    "plt.show()\n",
    "\n",
    "start_date = '2016-09-30 23:45:00'\n",
    "end_date = '2020-09-29 23:45:00' #decrease 1 day due to leap year\n",
    "mask = (demand_df['Date'] > start_date) & (demand_df['Date'] <= end_date)\n",
    "demand_df.loc[mask, 'Building0'] = fill_missing(building_df)\n",
    "demand_df.head()"
   ]
  },
  {
   "cell_type": "code",
   "execution_count": 160,
   "metadata": {},
   "outputs": [],
   "source": [
    "# Hai's Smoothing Peaks Function\n",
    "def smooth_like_butter(peaks, ar):\n",
    "    '''\n",
    "    Input in a list with all the indexes that have peaks and returns an array with all \n",
    "    the indexes being smoothed by taking the mean of the previous and the next value\n",
    "    '''\n",
    "    arr = copy.copy(ar)\n",
    "    for peak in peaks:\n",
    "        i = 1\n",
    "        j = 1\n",
    "        while arr[peak + i] == arr[peak]:\n",
    "            i += 1\n",
    "        while arr[peak - j] == arr[peak]:\n",
    "            j += 1\n",
    "        val = (arr[peak + i] + arr[peak - j]) / 2\n",
    "        arr[peak - j:peak + i] = val\n",
    "    return arr\n",
    "\n",
    "# demand_df smoothing\n",
    "\n",
    "# Find peaks and append to array\n",
    "peaks, _ = find_peaks(demand_df['Building0'], height=700)\n",
    "Building0_peaks = np.zeros(len(demand_df))\n",
    "Building0_peaks[:] = np.NaN\n",
    "for i in peaks:\n",
    "    Building0_peaks[i] = demand_df['Building0'][i]\n",
    "\n",
    "# save smoothed demand_df\n",
    "demand_df['Building0'] = smooth_like_butter(peaks, demand_df['Building0'])\n",
    "demand_df.to_csv(\"demand_smoothed_building0\")"
   ]
  },
  {
   "cell_type": "markdown",
   "metadata": {},
   "source": [
    "# Autoregressive Forecasting Setup "
   ]
  },
  {
   "cell_type": "code",
   "execution_count": 161,
   "metadata": {},
   "outputs": [],
   "source": [
    "# Auto Regressive Forecasting\n",
    "# https://towardsdatascience.com/time-series-forecasting-with-autoregressive-processes-ba629717401\n",
    "\n",
    "# imports\n",
    "from statsmodels.graphics.tsaplots import plot_pacf\n",
    "from statsmodels.graphics.tsaplots import plot_acf\n",
    "from statsmodels.tsa.arima_process import ArmaProcess\n",
    "from statsmodels.tsa.stattools import pacf\n",
    "from statsmodels.regression.linear_model import yule_walker\n",
    "from statsmodels.tsa.stattools import adfuller\n",
    "import matplotlib.pyplot as plt\n",
    "import numpy as np\n",
    "%matplotlib inline\n",
    "\n",
    "demand_df = pd.read_csv(\"demand_smoothed_building0\", parse_dates=[\"Date\"])"
   ]
  },
  {
   "cell_type": "code",
   "execution_count": 162,
   "metadata": {},
   "outputs": [],
   "source": [
    "# Remove empty rows\n",
    "demand_df[\"Building0\"].replace(\"\", np.nan, inplace=True) # replaces empty string\n",
    "demand_df.dropna(subset=[\"Building0\"], inplace=True) # removes nan rows"
   ]
  },
  {
   "cell_type": "code",
   "execution_count": 163,
   "metadata": {},
   "outputs": [
    {
     "data": {
      "image/png": "[encoded data removed]",
      "text/plain": [
       "<Figure size 720x540 with 1 Axes>"
      ]
     },
     "metadata": {
      "needs_background": "light"
     },
     "output_type": "display_data"
    }
   ],
   "source": [
    "# Plot time series\n",
    "plt.figure(figsize=[10, 7.5]); # Set dimensions for figure\n",
    "plt.plot(demand_df[\"Date\"], demand_df[\"Building0\"])\n",
    "plt.title(\"Building0\")\n",
    "plt.show()"
   ]
  },
  {
   "cell_type": "code",
   "execution_count": 164,
   "metadata": {},
   "outputs": [
    {
     "data": {
      "image/png": "[encoded data removed]",
      "text/plain": [
       "<Figure size 1080x540 with 1 Axes>"
      ]
     },
     "metadata": {
      "needs_background": "light"
     },
     "output_type": "display_data"
    }
   ],
   "source": [
    "plt.figure(figsize=[15, 7.5]); # Set dimensions for figure\n",
    "plt.scatter(demand_df[\"Date\"], demand_df[\"Building0\"])\n",
    "plt.title(\"Building0\")\n",
    "plt.ylabel(\"Building0 Demand\")\n",
    "plt.xlabel(\"Date\")\n",
    "plt.xticks(rotation=90)\n",
    "plt.grid(True)\n",
    "plt.show()"
   ]
  },
  {
   "cell_type": "code",
   "execution_count": 165,
   "metadata": {},
   "outputs": [
    {
     "data": {
      "text/html": [
       "<div>\n",
       "<style scoped>\n",
       "    .dataframe tbody tr th:only-of-type {\n",
       "        vertical-align: middle;\n",
       "    }\n",
       "\n",
       "    .dataframe tbody tr th {\n",
       "        vertical-align: top;\n",
       "    }\n",
       "\n",
       "    .dataframe thead th {\n",
       "        text-align: right;\n",
       "    }\n",
       "</style>\n",
       "<table border=\"1\" class=\"dataframe\">\n",
       "  <thead>\n",
       "    <tr style=\"text-align: right;\">\n",
       "      <th></th>\n",
       "      <th>Unnamed: 0</th>\n",
       "      <th>Date</th>\n",
       "      <th>Building0</th>\n",
       "      <th>Building1</th>\n",
       "      <th>Building3</th>\n",
       "      <th>Building4</th>\n",
       "      <th>Building5</th>\n",
       "      <th>Building6</th>\n",
       "      <th>Solar0</th>\n",
       "      <th>Solar1</th>\n",
       "      <th>Solar2</th>\n",
       "      <th>Solar3</th>\n",
       "      <th>Solar4</th>\n",
       "      <th>Solar5</th>\n",
       "    </tr>\n",
       "  </thead>\n",
       "  <tbody>\n",
       "    <tr>\n",
       "      <th>1</th>\n",
       "      <td>1</td>\n",
       "      <td>2016-07-03 21:45:00</td>\n",
       "      <td>0.000000</td>\n",
       "      <td>NaN</td>\n",
       "      <td>581.0</td>\n",
       "      <td>NaN</td>\n",
       "      <td>NaN</td>\n",
       "      <td>NaN</td>\n",
       "      <td>NaN</td>\n",
       "      <td>NaN</td>\n",
       "      <td>NaN</td>\n",
       "      <td>NaN</td>\n",
       "      <td>NaN</td>\n",
       "      <td>NaN</td>\n",
       "    </tr>\n",
       "    <tr>\n",
       "      <th>2</th>\n",
       "      <td>2</td>\n",
       "      <td>2016-07-03 22:00:00</td>\n",
       "      <td>0.000000</td>\n",
       "      <td>NaN</td>\n",
       "      <td>581.0</td>\n",
       "      <td>NaN</td>\n",
       "      <td>NaN</td>\n",
       "      <td>NaN</td>\n",
       "      <td>NaN</td>\n",
       "      <td>NaN</td>\n",
       "      <td>NaN</td>\n",
       "      <td>NaN</td>\n",
       "      <td>NaN</td>\n",
       "      <td>NaN</td>\n",
       "    </tr>\n",
       "    <tr>\n",
       "      <th>3</th>\n",
       "      <td>3</td>\n",
       "      <td>2016-07-03 22:15:00</td>\n",
       "      <td>0.758610</td>\n",
       "      <td>NaN</td>\n",
       "      <td>624.0</td>\n",
       "      <td>NaN</td>\n",
       "      <td>NaN</td>\n",
       "      <td>NaN</td>\n",
       "      <td>NaN</td>\n",
       "      <td>NaN</td>\n",
       "      <td>NaN</td>\n",
       "      <td>NaN</td>\n",
       "      <td>NaN</td>\n",
       "      <td>NaN</td>\n",
       "    </tr>\n",
       "    <tr>\n",
       "      <th>4</th>\n",
       "      <td>4</td>\n",
       "      <td>2016-07-03 22:30:00</td>\n",
       "      <td>0.000000</td>\n",
       "      <td>NaN</td>\n",
       "      <td>624.0</td>\n",
       "      <td>NaN</td>\n",
       "      <td>NaN</td>\n",
       "      <td>NaN</td>\n",
       "      <td>NaN</td>\n",
       "      <td>NaN</td>\n",
       "      <td>NaN</td>\n",
       "      <td>NaN</td>\n",
       "      <td>NaN</td>\n",
       "      <td>NaN</td>\n",
       "    </tr>\n",
       "    <tr>\n",
       "      <th>5</th>\n",
       "      <td>5</td>\n",
       "      <td>2016-07-03 22:45:00</td>\n",
       "      <td>0.000000</td>\n",
       "      <td>NaN</td>\n",
       "      <td>624.0</td>\n",
       "      <td>NaN</td>\n",
       "      <td>NaN</td>\n",
       "      <td>NaN</td>\n",
       "      <td>NaN</td>\n",
       "      <td>NaN</td>\n",
       "      <td>NaN</td>\n",
       "      <td>NaN</td>\n",
       "      <td>NaN</td>\n",
       "      <td>NaN</td>\n",
       "    </tr>\n",
       "    <tr>\n",
       "      <th>...</th>\n",
       "      <td>...</td>\n",
       "      <td>...</td>\n",
       "      <td>...</td>\n",
       "      <td>...</td>\n",
       "      <td>...</td>\n",
       "      <td>...</td>\n",
       "      <td>...</td>\n",
       "      <td>...</td>\n",
       "      <td>...</td>\n",
       "      <td>...</td>\n",
       "      <td>...</td>\n",
       "      <td>...</td>\n",
       "      <td>...</td>\n",
       "      <td>...</td>\n",
       "    </tr>\n",
       "    <tr>\n",
       "      <th>148805</th>\n",
       "      <td>148805</td>\n",
       "      <td>2020-09-30 22:45:00</td>\n",
       "      <td>0.000000</td>\n",
       "      <td>14.4</td>\n",
       "      <td>389.0</td>\n",
       "      <td>NaN</td>\n",
       "      <td>NaN</td>\n",
       "      <td>35.6</td>\n",
       "      <td>29.67</td>\n",
       "      <td>6.68</td>\n",
       "      <td>6.34</td>\n",
       "      <td>5.49</td>\n",
       "      <td>4.55</td>\n",
       "      <td>25.28</td>\n",
       "    </tr>\n",
       "    <tr>\n",
       "      <th>148806</th>\n",
       "      <td>148806</td>\n",
       "      <td>2020-09-30 23:00:00</td>\n",
       "      <td>0.000000</td>\n",
       "      <td>18.8</td>\n",
       "      <td>389.0</td>\n",
       "      <td>1.0</td>\n",
       "      <td>NaN</td>\n",
       "      <td>38.6</td>\n",
       "      <td>29.94</td>\n",
       "      <td>6.71</td>\n",
       "      <td>6.39</td>\n",
       "      <td>5.65</td>\n",
       "      <td>4.57</td>\n",
       "      <td>25.30</td>\n",
       "    </tr>\n",
       "    <tr>\n",
       "      <th>148807</th>\n",
       "      <td>148807</td>\n",
       "      <td>2020-09-30 23:15:00</td>\n",
       "      <td>-0.952009</td>\n",
       "      <td>4.5</td>\n",
       "      <td>415.0</td>\n",
       "      <td>NaN</td>\n",
       "      <td>NaN</td>\n",
       "      <td>38.6</td>\n",
       "      <td>34.02</td>\n",
       "      <td>8.13</td>\n",
       "      <td>7.71</td>\n",
       "      <td>6.83</td>\n",
       "      <td>5.32</td>\n",
       "      <td>28.62</td>\n",
       "    </tr>\n",
       "    <tr>\n",
       "      <th>148808</th>\n",
       "      <td>148808</td>\n",
       "      <td>2020-09-30 23:30:00</td>\n",
       "      <td>0.000000</td>\n",
       "      <td>9.6</td>\n",
       "      <td>415.0</td>\n",
       "      <td>NaN</td>\n",
       "      <td>NaN</td>\n",
       "      <td>38.6</td>\n",
       "      <td>38.10</td>\n",
       "      <td>9.55</td>\n",
       "      <td>9.03</td>\n",
       "      <td>8.02</td>\n",
       "      <td>6.08</td>\n",
       "      <td>31.94</td>\n",
       "    </tr>\n",
       "    <tr>\n",
       "      <th>148809</th>\n",
       "      <td>148809</td>\n",
       "      <td>2020-09-30 23:45:00</td>\n",
       "      <td>0.000000</td>\n",
       "      <td>14.0</td>\n",
       "      <td>415.0</td>\n",
       "      <td>NaN</td>\n",
       "      <td>NaN</td>\n",
       "      <td>38.6</td>\n",
       "      <td>39.88</td>\n",
       "      <td>10.12</td>\n",
       "      <td>9.67</td>\n",
       "      <td>8.62</td>\n",
       "      <td>6.33</td>\n",
       "      <td>32.92</td>\n",
       "    </tr>\n",
       "  </tbody>\n",
       "</table>\n",
       "<p>148809 rows × 14 columns</p>\n",
       "</div>"
      ],
      "text/plain": [
       "        Unnamed: 0                Date  Building0  Building1  Building3  \\\n",
       "1                1 2016-07-03 21:45:00   0.000000        NaN      581.0   \n",
       "2                2 2016-07-03 22:00:00   0.000000        NaN      581.0   \n",
       "3                3 2016-07-03 22:15:00   0.758610        NaN      624.0   \n",
       "4                4 2016-07-03 22:30:00   0.000000        NaN      624.0   \n",
       "5                5 2016-07-03 22:45:00   0.000000        NaN      624.0   \n",
       "...            ...                 ...        ...        ...        ...   \n",
       "148805      148805 2020-09-30 22:45:00   0.000000       14.4      389.0   \n",
       "148806      148806 2020-09-30 23:00:00   0.000000       18.8      389.0   \n",
       "148807      148807 2020-09-30 23:15:00  -0.952009        4.5      415.0   \n",
       "148808      148808 2020-09-30 23:30:00   0.000000        9.6      415.0   \n",
       "148809      148809 2020-09-30 23:45:00   0.000000       14.0      415.0   \n",
       "\n",
       "        Building4  Building5  Building6  Solar0  Solar1  Solar2  Solar3  \\\n",
       "1             NaN        NaN        NaN     NaN     NaN     NaN     NaN   \n",
       "2             NaN        NaN        NaN     NaN     NaN     NaN     NaN   \n",
       "3             NaN        NaN        NaN     NaN     NaN     NaN     NaN   \n",
       "4             NaN        NaN        NaN     NaN     NaN     NaN     NaN   \n",
       "5             NaN        NaN        NaN     NaN     NaN     NaN     NaN   \n",
       "...           ...        ...        ...     ...     ...     ...     ...   \n",
       "148805        NaN        NaN       35.6   29.67    6.68    6.34    5.49   \n",
       "148806        1.0        NaN       38.6   29.94    6.71    6.39    5.65   \n",
       "148807        NaN        NaN       38.6   34.02    8.13    7.71    6.83   \n",
       "148808        NaN        NaN       38.6   38.10    9.55    9.03    8.02   \n",
       "148809        NaN        NaN       38.6   39.88   10.12    9.67    8.62   \n",
       "\n",
       "        Solar4  Solar5  \n",
       "1          NaN     NaN  \n",
       "2          NaN     NaN  \n",
       "3          NaN     NaN  \n",
       "4          NaN     NaN  \n",
       "5          NaN     NaN  \n",
       "...        ...     ...  \n",
       "148805    4.55   25.28  \n",
       "148806    4.57   25.30  \n",
       "148807    5.32   28.62  \n",
       "148808    6.08   31.94  \n",
       "148809    6.33   32.92  \n",
       "\n",
       "[148809 rows x 14 columns]"
      ]
     },
     "execution_count": 165,
     "metadata": {},
     "output_type": "execute_result"
    }
   ],
   "source": [
    "# AR(p) process requires stationary data, so let's take the log difference to make it stationary\n",
    "demand_df[\"Building0\"] = np.log(demand_df[\"Building0\"])\n",
    "demand_df[\"Building0\"] = demand_df['Building0'].diff()\n",
    "demand_df = demand_df.drop(demand_df.index[0])\n",
    "demand_df"
   ]
  },
  {
   "cell_type": "code",
   "execution_count": 166,
   "metadata": {},
   "outputs": [
    {
     "data": {
      "image/png": "[encoded data removed]",
      "text/plain": [
       "<Figure size 1080x540 with 1 Axes>"
      ]
     },
     "metadata": {
      "needs_background": "light"
     },
     "output_type": "display_data"
    }
   ],
   "source": [
    "# Plot transformed time series\n",
    "plt.figure(figsize=[15, 7.5]); # Set dimensions for figure\n",
    "plt.plot(demand_df[\"Building0\"])\n",
    "plt.title(\"Log Difference of Building0\")\n",
    "plt.show()"
   ]
  },
  {
   "cell_type": "markdown",
   "metadata": {},
   "source": [
    "Now the data appears to have no trend, but to ensure how stationary the data is we can use the Dick-Fuller test for statistical significance."
   ]
  },
  {
   "cell_type": "code",
   "execution_count": 167,
   "metadata": {},
   "outputs": [
    {
     "name": "stdout",
     "output_type": "stream",
     "text": [
      "ADF Statistic: -100.13853121065557\n",
      "p-value: 0.0\n"
     ]
    }
   ],
   "source": [
    "ad_fuller_result = adfuller(demand_df[\"Building0\"])\n",
    "print(f'ADF Statistic: {ad_fuller_result[0]}')\n",
    "print(f'p-value: {ad_fuller_result[1]}')"
   ]
  },
  {
   "cell_type": "markdown",
   "metadata": {},
   "source": [
    "As we have a very large, negative ADF statistic and an extremely low p-value of 0 - we can reject the null hypothesis and say that our time series is stationary."
   ]
  },
  {
   "cell_type": "code",
   "execution_count": 168,
   "metadata": {},
   "outputs": [
    {
     "data": {
      "image/png": "[encoded data removed]",
      "text/plain": [
       "<Figure size 432x288 with 1 Axes>"
      ]
     },
     "metadata": {
      "needs_background": "light"
     },
     "output_type": "display_data"
    },
    {
     "data": {
      "image/png": "[encoded data removed]",
      "text/plain": [
       "<Figure size 432x288 with 1 Axes>"
      ]
     },
     "metadata": {
      "needs_background": "light"
     },
     "output_type": "display_data"
    }
   ],
   "source": [
    "# Plot autocorrelation and partial autocorrelation plots\n",
    "plot_pacf(demand_df[\"Building0\"]);\n",
    "plot_acf(demand_df[\"Building0\"]);"
   ]
  },
  {
   "cell_type": "markdown",
   "metadata": {},
   "source": [
    "Coefficients are least important after lag 1, now use a Yule-Walker equation to estimate of AR(p) of order 1\n",
    "\n",
    "Other options include:\n",
    "\n",
    "Coefficients are least important after lag 8, now use a Yule-Walker equation to estimate of AR(p) of order 8\n",
    "\n",
    "Coefficients are least important after lag 33, now use a Yule-Walker equation to estimate of AR(p) of order 33\n",
    "\n",
    "Coefficients are least important after lag 39, now use a Yule-Walker equation to estimate of AR(p) of order 39\n",
    "\n",
    "Coefficients are least important after lag 43, now use a Yule-Walker equation to estimate of AR(p) of order 43"
   ]
  },
  {
   "cell_type": "markdown",
   "metadata": {},
   "source": [
    "# Autoregressive Model of Order 1"
   ]
  },
  {
   "cell_type": "code",
   "execution_count": 169,
   "metadata": {},
   "outputs": [],
   "source": [
    "# Function for fitting:\n",
    "def find_predicted_val(rho, sigma, starting_val, df_col):\n",
    "    res = sigma\n",
    "    j = starting_val\n",
    "    for i in range(len(rho)):\n",
    "        res += rho[i]*df_col[j - i]\n",
    "        j += 1\n",
    "    return res"
   ]
  },
  {
   "cell_type": "code",
   "execution_count": 170,
   "metadata": {},
   "outputs": [
    {
     "name": "stdout",
     "output_type": "stream",
     "text": [
      "rho: [0.00166727]\n",
      "sigma: 0.10147121133129801\n"
     ]
    }
   ],
   "source": [
    "# Try a AR(1) model\n",
    "rho_AR1, sigma_AR1 = yule_walker(demand_df[\"Building0\"], 1)\n",
    "print(f'rho: {-rho_AR1}')\n",
    "print(f'sigma: {sigma_AR1}')"
   ]
  },
  {
   "cell_type": "markdown",
   "metadata": {},
   "source": [
    "Therefore, the function is best approximated for:\n",
    "\n",
    "y_t = 0.10 + 1.67 * 10^-3 * y_t-1"
   ]
  },
  {
   "cell_type": "code",
   "execution_count": 171,
   "metadata": {},
   "outputs": [
    {
     "name": "stdout",
     "output_type": "stream",
     "text": [
      "149000\n",
      "150000\n",
      "151000\n",
      "152000\n",
      "153000\n",
      "154000\n",
      "155000\n",
      "156000\n",
      "157000\n",
      "158000\n",
      "159000\n",
      "160000\n",
      "161000\n",
      "162000\n",
      "163000\n"
     ]
    }
   ],
   "source": [
    "# Fitting the AR(1) model\n",
    "\n",
    "demand_df_AR1 = demand_df[[\"Date\", \"Building0\"]]\n",
    "\n",
    "for i in range(len(demand_df[\"Date\"]) - 1, len(demand_df[\"Date\"]) + 15000 - 1):\n",
    "    if i % 1000 == 0:\n",
    "        print(i)\n",
    "    demand_df_AR1 = demand_df_AR1.append({\"Building0\" : sigma_AR1 + find_predicted_val(rho_AR1, sigma_AR1, i, demand_df_AR1[\"Building0\"])}, ignore_index=True)"
   ]
  },
  {
   "cell_type": "code",
   "execution_count": 172,
   "metadata": {},
   "outputs": [
    {
     "data": {
      "text/plain": [
       "14809     0.000000\n",
       "14810     0.021353\n",
       "14811     0.000000\n",
       "14812     0.000000\n",
       "14813     0.000000\n",
       "            ...   \n",
       "163804    0.202605\n",
       "163805    0.202605\n",
       "163806    0.202605\n",
       "163807    0.202605\n",
       "163808    0.202605\n",
       "Name: Building0, Length: 149000, dtype: float64"
      ]
     },
     "execution_count": 172,
     "metadata": {},
     "output_type": "execute_result"
    }
   ],
   "source": [
    "demand_df_AR1[\"Building0\"][14809:163809]"
   ]
  },
  {
   "cell_type": "code",
   "execution_count": 173,
   "metadata": {},
   "outputs": [
    {
     "data": {
      "image/png": "[encoded data removed]",
      "text/plain": [
       "<Figure size 1080x540 with 1 Axes>"
      ]
     },
     "metadata": {
      "needs_background": "light"
     },
     "output_type": "display_data"
    }
   ],
   "source": [
    "# Plotting AR(1) model\n",
    "# Plot transformed time series\n",
    "plt.figure(figsize=[15, 7.5]); # Set dimensions for figure\n",
    "plt.plot(demand_df_AR1[\"Building0\"])\n",
    "plt.title(\"Log Difference of Building0 + Forecasted October AR(1) Model\")\n",
    "plt.show()"
   ]
  },
  {
   "cell_type": "markdown",
   "metadata": {},
   "source": [
    "# Autoregressive Model of Order 8"
   ]
  },
  {
   "cell_type": "code",
   "execution_count": 174,
   "metadata": {},
   "outputs": [
    {
     "name": "stdout",
     "output_type": "stream",
     "text": [
      "rho: [ 0.00167907  0.0006772  -0.00028777  0.00012538 -0.00025718  0.0010094\n",
      " -0.00027881 -0.09888423]\n",
      "sigma: 0.10097379363595169\n"
     ]
    }
   ],
   "source": [
    "# Try a AR(8) model\n",
    "rho_AR8, sigma_AR8 = yule_walker(demand_df[\"Building0\"], 8)\n",
    "print(f'rho: {-rho_AR8}')\n",
    "print(f'sigma: {sigma_AR8}')"
   ]
  },
  {
   "cell_type": "markdown",
   "metadata": {},
   "source": [
    "Therefore, the function is best approximated for:\n",
    "\n",
    "y_t = 0.10 + 1.67 * 10^-3 * y_t-1 + 6.77 * 10^-4 * y_t-2 -2.88 * 10^-4 * t_y-3 etc"
   ]
  },
  {
   "cell_type": "code",
   "execution_count": 175,
   "metadata": {},
   "outputs": [
    {
     "name": "stdout",
     "output_type": "stream",
     "text": [
      "149000\n",
      "150000\n",
      "151000\n",
      "152000\n",
      "153000\n",
      "154000\n",
      "155000\n",
      "156000\n",
      "157000\n",
      "158000\n",
      "159000\n",
      "160000\n",
      "161000\n",
      "162000\n",
      "163000\n"
     ]
    }
   ],
   "source": [
    "# Fitting the AR(8) model\n",
    "\n",
    "demand_df_AR8 = demand_df[[\"Date\", \"Building0\"]]\n",
    "\n",
    "for i in range(len(demand_df[\"Date\"]) - 1, len(demand_df[\"Date\"]) + 15000 - 1):\n",
    "    if i % 1000 == 0:\n",
    "        print(i)\n",
    "    demand_df_AR8 = demand_df_AR8.append({\"Building0\" : find_predicted_val(rho_AR8, sigma_AR8, i, demand_df_AR8[\"Building0\"])}, ignore_index=True)"
   ]
  },
  {
   "cell_type": "code",
   "execution_count": 176,
   "metadata": {},
   "outputs": [
    {
     "data": {
      "text/html": [
       "<div>\n",
       "<style scoped>\n",
       "    .dataframe tbody tr th:only-of-type {\n",
       "        vertical-align: middle;\n",
       "    }\n",
       "\n",
       "    .dataframe tbody tr th {\n",
       "        vertical-align: top;\n",
       "    }\n",
       "\n",
       "    .dataframe thead th {\n",
       "        text-align: right;\n",
       "    }\n",
       "</style>\n",
       "<table border=\"1\" class=\"dataframe\">\n",
       "  <thead>\n",
       "    <tr style=\"text-align: right;\">\n",
       "      <th></th>\n",
       "      <th>Date</th>\n",
       "      <th>Building0</th>\n",
       "    </tr>\n",
       "  </thead>\n",
       "  <tbody>\n",
       "    <tr>\n",
       "      <th>0</th>\n",
       "      <td>2016-07-03 21:45:00</td>\n",
       "      <td>0.000000</td>\n",
       "    </tr>\n",
       "    <tr>\n",
       "      <th>1</th>\n",
       "      <td>2016-07-03 22:00:00</td>\n",
       "      <td>0.000000</td>\n",
       "    </tr>\n",
       "    <tr>\n",
       "      <th>2</th>\n",
       "      <td>2016-07-03 22:15:00</td>\n",
       "      <td>0.758610</td>\n",
       "    </tr>\n",
       "    <tr>\n",
       "      <th>3</th>\n",
       "      <td>2016-07-03 22:30:00</td>\n",
       "      <td>0.000000</td>\n",
       "    </tr>\n",
       "    <tr>\n",
       "      <th>4</th>\n",
       "      <td>2016-07-03 22:45:00</td>\n",
       "      <td>0.000000</td>\n",
       "    </tr>\n",
       "    <tr>\n",
       "      <th>...</th>\n",
       "      <td>...</td>\n",
       "      <td>...</td>\n",
       "    </tr>\n",
       "    <tr>\n",
       "      <th>163804</th>\n",
       "      <td>NaT</td>\n",
       "      <td>0.111723</td>\n",
       "    </tr>\n",
       "    <tr>\n",
       "      <th>163805</th>\n",
       "      <td>NaT</td>\n",
       "      <td>0.111723</td>\n",
       "    </tr>\n",
       "    <tr>\n",
       "      <th>163806</th>\n",
       "      <td>NaT</td>\n",
       "      <td>0.111723</td>\n",
       "    </tr>\n",
       "    <tr>\n",
       "      <th>163807</th>\n",
       "      <td>NaT</td>\n",
       "      <td>0.111723</td>\n",
       "    </tr>\n",
       "    <tr>\n",
       "      <th>163808</th>\n",
       "      <td>NaT</td>\n",
       "      <td>0.111723</td>\n",
       "    </tr>\n",
       "  </tbody>\n",
       "</table>\n",
       "<p>163809 rows × 2 columns</p>\n",
       "</div>"
      ],
      "text/plain": [
       "                      Date  Building0\n",
       "0      2016-07-03 21:45:00   0.000000\n",
       "1      2016-07-03 22:00:00   0.000000\n",
       "2      2016-07-03 22:15:00   0.758610\n",
       "3      2016-07-03 22:30:00   0.000000\n",
       "4      2016-07-03 22:45:00   0.000000\n",
       "...                    ...        ...\n",
       "163804                 NaT   0.111723\n",
       "163805                 NaT   0.111723\n",
       "163806                 NaT   0.111723\n",
       "163807                 NaT   0.111723\n",
       "163808                 NaT   0.111723\n",
       "\n",
       "[163809 rows x 2 columns]"
      ]
     },
     "execution_count": 176,
     "metadata": {},
     "output_type": "execute_result"
    }
   ],
   "source": [
    "demand_df_AR8"
   ]
  },
  {
   "cell_type": "code",
   "execution_count": 177,
   "metadata": {},
   "outputs": [
    {
     "data": {
      "image/png": "[encoded data removed]",
      "text/plain": [
       "<Figure size 1080x540 with 1 Axes>"
      ]
     },
     "metadata": {
      "needs_background": "light"
     },
     "output_type": "display_data"
    }
   ],
   "source": [
    "# Plotting AR(1) model\n",
    "# Plot transformed time series\n",
    "plt.figure(figsize=[15, 7.5]); # Set dimensions for figure\n",
    "plt.plot(demand_df_AR8[\"Building0\"])\n",
    "plt.title(\"Log Difference of Building0 + Forecasted October AR(8) Model\")\n",
    "plt.show()"
   ]
  },
  {
   "cell_type": "markdown",
   "metadata": {},
   "source": [
    "# Autoregressive Model of Order 33"
   ]
  },
  {
   "cell_type": "code",
   "execution_count": 178,
   "metadata": {},
   "outputs": [
    {
     "name": "stdout",
     "output_type": "stream",
     "text": [
      "rho: [ 2.42041661e-03  1.11944246e-03  3.07507261e-04  9.24039361e-02\n",
      "  3.75089435e-04  1.53697715e-03  1.64142503e-04 -3.41621296e-02\n",
      " -7.53748396e-04  3.42703346e-04  2.03538727e-04  9.52866290e-02\n",
      "  7.69168991e-04  1.00489892e-04  1.83757601e-04  1.29160787e-01\n",
      "  1.37899947e-03  7.09741973e-04  2.88776572e-04  1.60638741e-01\n",
      "  8.73344313e-04  4.54734830e-04  3.13673378e-04  1.83766979e-01\n",
      "  4.56502632e-04  7.91135066e-04  5.77054052e-04  1.54697229e-01\n",
      "  8.74384074e-04  9.71261742e-04  2.84885875e-04  9.82938994e-02\n",
      "  5.53530335e-04]\n",
      "sigma: 0.09545946186457019\n"
     ]
    }
   ],
   "source": [
    "# Try a AR(33) model\n",
    "rho_AR33, sigma_AR33 = yule_walker(demand_df[\"Building0\"], 33)\n",
    "print(f'rho: {-rho_AR33}')\n",
    "print(f'sigma: {sigma_AR33}')"
   ]
  },
  {
   "cell_type": "code",
   "execution_count": 179,
   "metadata": {},
   "outputs": [
    {
     "name": "stdout",
     "output_type": "stream",
     "text": [
      "149000\n",
      "150000\n",
      "151000\n",
      "152000\n",
      "153000\n",
      "154000\n",
      "155000\n",
      "156000\n",
      "157000\n",
      "158000\n",
      "159000\n",
      "160000\n",
      "161000\n",
      "162000\n",
      "163000\n"
     ]
    }
   ],
   "source": [
    "# Fitting the AR(33) model\n",
    "\n",
    "demand_df_AR33 = demand_df[[\"Date\", \"Building0\"]]\n",
    "\n",
    "for i in range(len(demand_df[\"Date\"]) - 1, len(demand_df[\"Date\"]) + 15000 - 1):\n",
    "    if i % 1000 == 0:\n",
    "        print(i)\n",
    "    demand_df_AR33 = demand_df_AR8.append({\"Building0\" : find_predicted_val(rho_AR33, sigma_AR33, i, demand_df_AR33[\"Building0\"])}, ignore_index=True)"
   ]
  },
  {
   "cell_type": "code",
   "execution_count": 180,
   "metadata": {},
   "outputs": [
    {
     "data": {
      "text/html": [
       "<div>\n",
       "<style scoped>\n",
       "    .dataframe tbody tr th:only-of-type {\n",
       "        vertical-align: middle;\n",
       "    }\n",
       "\n",
       "    .dataframe tbody tr th {\n",
       "        vertical-align: top;\n",
       "    }\n",
       "\n",
       "    .dataframe thead th {\n",
       "        text-align: right;\n",
       "    }\n",
       "</style>\n",
       "<table border=\"1\" class=\"dataframe\">\n",
       "  <thead>\n",
       "    <tr style=\"text-align: right;\">\n",
       "      <th></th>\n",
       "      <th>Date</th>\n",
       "      <th>Building0</th>\n",
       "    </tr>\n",
       "  </thead>\n",
       "  <tbody>\n",
       "    <tr>\n",
       "      <th>0</th>\n",
       "      <td>2016-07-03 21:45:00</td>\n",
       "      <td>0.000000</td>\n",
       "    </tr>\n",
       "    <tr>\n",
       "      <th>1</th>\n",
       "      <td>2016-07-03 22:00:00</td>\n",
       "      <td>0.000000</td>\n",
       "    </tr>\n",
       "    <tr>\n",
       "      <th>2</th>\n",
       "      <td>2016-07-03 22:15:00</td>\n",
       "      <td>0.758610</td>\n",
       "    </tr>\n",
       "    <tr>\n",
       "      <th>3</th>\n",
       "      <td>2016-07-03 22:30:00</td>\n",
       "      <td>0.000000</td>\n",
       "    </tr>\n",
       "    <tr>\n",
       "      <th>4</th>\n",
       "      <td>2016-07-03 22:45:00</td>\n",
       "      <td>0.000000</td>\n",
       "    </tr>\n",
       "    <tr>\n",
       "      <th>...</th>\n",
       "      <td>...</td>\n",
       "      <td>...</td>\n",
       "    </tr>\n",
       "    <tr>\n",
       "      <th>163805</th>\n",
       "      <td>NaT</td>\n",
       "      <td>0.111723</td>\n",
       "    </tr>\n",
       "    <tr>\n",
       "      <th>163806</th>\n",
       "      <td>NaT</td>\n",
       "      <td>0.111723</td>\n",
       "    </tr>\n",
       "    <tr>\n",
       "      <th>163807</th>\n",
       "      <td>NaT</td>\n",
       "      <td>0.111723</td>\n",
       "    </tr>\n",
       "    <tr>\n",
       "      <th>163808</th>\n",
       "      <td>NaT</td>\n",
       "      <td>0.111723</td>\n",
       "    </tr>\n",
       "    <tr>\n",
       "      <th>163809</th>\n",
       "      <td>NaT</td>\n",
       "      <td>-0.004576</td>\n",
       "    </tr>\n",
       "  </tbody>\n",
       "</table>\n",
       "<p>163810 rows × 2 columns</p>\n",
       "</div>"
      ],
      "text/plain": [
       "                      Date  Building0\n",
       "0      2016-07-03 21:45:00   0.000000\n",
       "1      2016-07-03 22:00:00   0.000000\n",
       "2      2016-07-03 22:15:00   0.758610\n",
       "3      2016-07-03 22:30:00   0.000000\n",
       "4      2016-07-03 22:45:00   0.000000\n",
       "...                    ...        ...\n",
       "163805                 NaT   0.111723\n",
       "163806                 NaT   0.111723\n",
       "163807                 NaT   0.111723\n",
       "163808                 NaT   0.111723\n",
       "163809                 NaT  -0.004576\n",
       "\n",
       "[163810 rows x 2 columns]"
      ]
     },
     "execution_count": 180,
     "metadata": {},
     "output_type": "execute_result"
    }
   ],
   "source": [
    "demand_df_AR33"
   ]
  },
  {
   "cell_type": "code",
   "execution_count": 181,
   "metadata": {},
   "outputs": [
    {
     "data": {
      "image/png": "[encoded data removed]",
      "text/plain": [
       "<Figure size 1080x540 with 1 Axes>"
      ]
     },
     "metadata": {
      "needs_background": "light"
     },
     "output_type": "display_data"
    }
   ],
   "source": [
    "# Plotting AR(33) model\n",
    "# Plot transformed time series\n",
    "plt.figure(figsize=[15, 7.5]); # Set dimensions for figure\n",
    "plt.plot(demand_df_AR33[\"Building0\"])\n",
    "plt.title(\"Log Difference of Building0 + Forecasted October AR(33) Model\")\n",
    "plt.show()"
   ]
  },
  {
   "cell_type": "markdown",
   "metadata": {},
   "source": [
    "# Autoregressive Model of Order 39"
   ]
  },
  {
   "cell_type": "code",
   "execution_count": 182,
   "metadata": {},
   "outputs": [
    {
     "name": "stdout",
     "output_type": "stream",
     "text": [
      "rho: [ 0.0025039   0.0014014   0.0004805   0.09929443  0.0004279   0.00192251\n",
      "  0.00043147 -0.02332019 -0.00067872  0.00079813  0.00049565  0.10816399\n",
      "  0.00084233  0.00056433  0.00050553  0.14041779  0.00144931  0.00113282\n",
      "  0.0006048   0.16969015  0.0009315   0.00076177  0.00053823  0.19044442\n",
      "  0.00050781  0.00092633  0.00055578  0.15230661  0.00089248  0.00116815\n",
      "  0.00038509  0.10477214  0.00060911  0.00136     0.00115887  0.07006466\n",
      "  0.00022585  0.0012559   0.00057714]\n",
      "sigma: 0.09522468514566461\n"
     ]
    }
   ],
   "source": [
    "# Try a AR(39) model\n",
    "rho_AR39, sigma_AR39 = yule_walker(demand_df[\"Building0\"], 39)\n",
    "print(f'rho: {-rho_AR39}')\n",
    "print(f'sigma: {sigma_AR39}')"
   ]
  },
  {
   "cell_type": "code",
   "execution_count": 183,
   "metadata": {},
   "outputs": [
    {
     "name": "stdout",
     "output_type": "stream",
     "text": [
      "149000\n",
      "150000\n",
      "151000\n",
      "152000\n",
      "153000\n",
      "154000\n",
      "155000\n",
      "156000\n",
      "157000\n",
      "158000\n",
      "159000\n",
      "160000\n",
      "161000\n",
      "162000\n",
      "163000\n"
     ]
    }
   ],
   "source": [
    "# Fitting the AR(39) model\n",
    "\n",
    "demand_df_AR39 = demand_df[[\"Date\", \"Building0\"]]\n",
    "\n",
    "for i in range(len(demand_df[\"Date\"]) - 1, len(demand_df[\"Date\"]) + 15000 - 1):\n",
    "    if i % 1000 == 0:\n",
    "        print(i)\n",
    "    demand_df_AR39 = demand_df_AR39.append({\"Building0\" : find_predicted_val(rho_AR39, sigma_AR39, i, demand_df_AR39[\"Building0\"])}, ignore_index=True)"
   ]
  },
  {
   "cell_type": "code",
   "execution_count": 184,
   "metadata": {},
   "outputs": [
    {
     "data": {
      "text/html": [
       "<div>\n",
       "<style scoped>\n",
       "    .dataframe tbody tr th:only-of-type {\n",
       "        vertical-align: middle;\n",
       "    }\n",
       "\n",
       "    .dataframe tbody tr th {\n",
       "        vertical-align: top;\n",
       "    }\n",
       "\n",
       "    .dataframe thead th {\n",
       "        text-align: right;\n",
       "    }\n",
       "</style>\n",
       "<table border=\"1\" class=\"dataframe\">\n",
       "  <thead>\n",
       "    <tr style=\"text-align: right;\">\n",
       "      <th></th>\n",
       "      <th>Date</th>\n",
       "      <th>Building0</th>\n",
       "    </tr>\n",
       "  </thead>\n",
       "  <tbody>\n",
       "    <tr>\n",
       "      <th>0</th>\n",
       "      <td>2016-07-03 21:45:00</td>\n",
       "      <td>0.000000e+00</td>\n",
       "    </tr>\n",
       "    <tr>\n",
       "      <th>1</th>\n",
       "      <td>2016-07-03 22:00:00</td>\n",
       "      <td>0.000000e+00</td>\n",
       "    </tr>\n",
       "    <tr>\n",
       "      <th>2</th>\n",
       "      <td>2016-07-03 22:15:00</td>\n",
       "      <td>7.586102e-01</td>\n",
       "    </tr>\n",
       "    <tr>\n",
       "      <th>3</th>\n",
       "      <td>2016-07-03 22:30:00</td>\n",
       "      <td>0.000000e+00</td>\n",
       "    </tr>\n",
       "    <tr>\n",
       "      <th>4</th>\n",
       "      <td>2016-07-03 22:45:00</td>\n",
       "      <td>0.000000e+00</td>\n",
       "    </tr>\n",
       "    <tr>\n",
       "      <th>...</th>\n",
       "      <td>...</td>\n",
       "      <td>...</td>\n",
       "    </tr>\n",
       "    <tr>\n",
       "      <th>163804</th>\n",
       "      <td>NaT</td>\n",
       "      <td>-3.855840e+232</td>\n",
       "    </tr>\n",
       "    <tr>\n",
       "      <th>163805</th>\n",
       "      <td>NaT</td>\n",
       "      <td>3.996847e+232</td>\n",
       "    </tr>\n",
       "    <tr>\n",
       "      <th>163806</th>\n",
       "      <td>NaT</td>\n",
       "      <td>-4.143012e+232</td>\n",
       "    </tr>\n",
       "    <tr>\n",
       "      <th>163807</th>\n",
       "      <td>NaT</td>\n",
       "      <td>4.294521e+232</td>\n",
       "    </tr>\n",
       "    <tr>\n",
       "      <th>163808</th>\n",
       "      <td>NaT</td>\n",
       "      <td>-4.451571e+232</td>\n",
       "    </tr>\n",
       "  </tbody>\n",
       "</table>\n",
       "<p>163809 rows × 2 columns</p>\n",
       "</div>"
      ],
      "text/plain": [
       "                      Date      Building0\n",
       "0      2016-07-03 21:45:00   0.000000e+00\n",
       "1      2016-07-03 22:00:00   0.000000e+00\n",
       "2      2016-07-03 22:15:00   7.586102e-01\n",
       "3      2016-07-03 22:30:00   0.000000e+00\n",
       "4      2016-07-03 22:45:00   0.000000e+00\n",
       "...                    ...            ...\n",
       "163804                 NaT -3.855840e+232\n",
       "163805                 NaT  3.996847e+232\n",
       "163806                 NaT -4.143012e+232\n",
       "163807                 NaT  4.294521e+232\n",
       "163808                 NaT -4.451571e+232\n",
       "\n",
       "[163809 rows x 2 columns]"
      ]
     },
     "execution_count": 184,
     "metadata": {},
     "output_type": "execute_result"
    }
   ],
   "source": [
    "demand_df_AR39"
   ]
  },
  {
   "cell_type": "code",
   "execution_count": 185,
   "metadata": {},
   "outputs": [
    {
     "data": {
      "image/png": "[encoded data removed]",
      "text/plain": [
       "<Figure size 1080x540 with 1 Axes>"
      ]
     },
     "metadata": {
      "needs_background": "light"
     },
     "output_type": "display_data"
    }
   ],
   "source": [
    "# Plotting AR(39) model\n",
    "# Plot transformed time series\n",
    "plt.figure(figsize=[15, 7.5]); # Set dimensions for figure\n",
    "plt.plot(demand_df_AR39[\"Building0\"])\n",
    "plt.title(\"Log Difference of Building0 + Forecasted October AR(39) Model\")\n",
    "plt.show()"
   ]
  },
  {
   "cell_type": "markdown",
   "metadata": {},
   "source": [
    "# Autoregressive Model of Order 43"
   ]
  },
  {
   "cell_type": "code",
   "execution_count": 186,
   "metadata": {},
   "outputs": [
    {
     "name": "stdout",
     "output_type": "stream",
     "text": [
      "rho: [ 0.0025902   0.00159207  0.00054201  0.1062684   0.00057299  0.00214881\n",
      "  0.00051461 -0.01363466 -0.00055273  0.00104094  0.00061881  0.12193634\n",
      "  0.00097736  0.00084701  0.00064047  0.15882216  0.0016147   0.00143913\n",
      "  0.00076808  0.18835718  0.00109303  0.00106785  0.00074477  0.20650337\n",
      "  0.00065081  0.00118099  0.00073288  0.16520889  0.00101033  0.00137676\n",
      "  0.00042715  0.10793363  0.0006511   0.00150342  0.00115751  0.07573445\n",
      "  0.00033156  0.00153881  0.00080004  0.06777523  0.00054348  0.00112961\n",
      "  0.00049448  0.03941597]\n",
      "sigma: 0.0949574753431957\n"
     ]
    }
   ],
   "source": [
    "# Try a AR(43) model\n",
    "rho_AR43, sigma_AR43 = yule_walker(demand_df[\"Building0\"], 44)\n",
    "print(f'rho: {-rho_AR43}')\n",
    "print(f'sigma: {sigma_AR43}')"
   ]
  },
  {
   "cell_type": "code",
   "execution_count": 187,
   "metadata": {},
   "outputs": [
    {
     "name": "stdout",
     "output_type": "stream",
     "text": [
      "149000\n",
      "150000\n",
      "151000\n"
     ]
    },
    {
     "name": "stderr",
     "output_type": "stream",
     "text": [
      "<ipython-input-169-536f57ba5334>:6: RuntimeWarning: overflow encountered in double_scalars\n",
      "  res += rho[i]*df_col[j - i]\n",
      "<ipython-input-169-536f57ba5334>:6: RuntimeWarning: invalid value encountered in double_scalars\n",
      "  res += rho[i]*df_col[j - i]\n"
     ]
    },
    {
     "name": "stdout",
     "output_type": "stream",
     "text": [
      "152000\n",
      "153000\n",
      "154000\n",
      "155000\n",
      "156000\n",
      "157000\n",
      "158000\n",
      "159000\n",
      "160000\n",
      "161000\n",
      "162000\n",
      "163000\n"
     ]
    }
   ],
   "source": [
    "# Fitting the AR(43) model\n",
    "\n",
    "demand_df_AR43 = demand_df[[\"Date\", \"Building0\"]]\n",
    "\n",
    "for i in range(len(demand_df[\"Date\"]) - 1, len(demand_df[\"Date\"]) + 15000 - 1):\n",
    "    if i % 1000 == 0:\n",
    "        print(i)\n",
    "    demand_df_AR43 = demand_df_AR43.append({\"Building0\" : find_predicted_val(rho_AR43, sigma_AR43, i, demand_df_AR43[\"Building0\"])}, ignore_index=True)"
   ]
  },
  {
   "cell_type": "code",
   "execution_count": 188,
   "metadata": {},
   "outputs": [
    {
     "data": {
      "text/html": [
       "<div>\n",
       "<style scoped>\n",
       "    .dataframe tbody tr th:only-of-type {\n",
       "        vertical-align: middle;\n",
       "    }\n",
       "\n",
       "    .dataframe tbody tr th {\n",
       "        vertical-align: top;\n",
       "    }\n",
       "\n",
       "    .dataframe thead th {\n",
       "        text-align: right;\n",
       "    }\n",
       "</style>\n",
       "<table border=\"1\" class=\"dataframe\">\n",
       "  <thead>\n",
       "    <tr style=\"text-align: right;\">\n",
       "      <th></th>\n",
       "      <th>Date</th>\n",
       "      <th>Building0</th>\n",
       "    </tr>\n",
       "  </thead>\n",
       "  <tbody>\n",
       "    <tr>\n",
       "      <th>0</th>\n",
       "      <td>2016-07-03 21:45:00</td>\n",
       "      <td>0.00000</td>\n",
       "    </tr>\n",
       "    <tr>\n",
       "      <th>1</th>\n",
       "      <td>2016-07-03 22:00:00</td>\n",
       "      <td>0.00000</td>\n",
       "    </tr>\n",
       "    <tr>\n",
       "      <th>2</th>\n",
       "      <td>2016-07-03 22:15:00</td>\n",
       "      <td>0.75861</td>\n",
       "    </tr>\n",
       "    <tr>\n",
       "      <th>3</th>\n",
       "      <td>2016-07-03 22:30:00</td>\n",
       "      <td>0.00000</td>\n",
       "    </tr>\n",
       "    <tr>\n",
       "      <th>4</th>\n",
       "      <td>2016-07-03 22:45:00</td>\n",
       "      <td>0.00000</td>\n",
       "    </tr>\n",
       "    <tr>\n",
       "      <th>...</th>\n",
       "      <td>...</td>\n",
       "      <td>...</td>\n",
       "    </tr>\n",
       "    <tr>\n",
       "      <th>163804</th>\n",
       "      <td>NaT</td>\n",
       "      <td>NaN</td>\n",
       "    </tr>\n",
       "    <tr>\n",
       "      <th>163805</th>\n",
       "      <td>NaT</td>\n",
       "      <td>NaN</td>\n",
       "    </tr>\n",
       "    <tr>\n",
       "      <th>163806</th>\n",
       "      <td>NaT</td>\n",
       "      <td>NaN</td>\n",
       "    </tr>\n",
       "    <tr>\n",
       "      <th>163807</th>\n",
       "      <td>NaT</td>\n",
       "      <td>NaN</td>\n",
       "    </tr>\n",
       "    <tr>\n",
       "      <th>163808</th>\n",
       "      <td>NaT</td>\n",
       "      <td>NaN</td>\n",
       "    </tr>\n",
       "  </tbody>\n",
       "</table>\n",
       "<p>163809 rows × 2 columns</p>\n",
       "</div>"
      ],
      "text/plain": [
       "                      Date  Building0\n",
       "0      2016-07-03 21:45:00    0.00000\n",
       "1      2016-07-03 22:00:00    0.00000\n",
       "2      2016-07-03 22:15:00    0.75861\n",
       "3      2016-07-03 22:30:00    0.00000\n",
       "4      2016-07-03 22:45:00    0.00000\n",
       "...                    ...        ...\n",
       "163804                 NaT        NaN\n",
       "163805                 NaT        NaN\n",
       "163806                 NaT        NaN\n",
       "163807                 NaT        NaN\n",
       "163808                 NaT        NaN\n",
       "\n",
       "[163809 rows x 2 columns]"
      ]
     },
     "execution_count": 188,
     "metadata": {},
     "output_type": "execute_result"
    }
   ],
   "source": [
    "demand_df_AR43"
   ]
  },
  {
   "cell_type": "code",
   "execution_count": 189,
   "metadata": {},
   "outputs": [
    {
     "name": "stderr",
     "output_type": "stream",
     "text": [
      "C:\\Users\\User\\anaconda3\\lib\\site-packages\\matplotlib\\axes\\_base.py:2563: RuntimeWarning: overflow encountered in double_scalars\n",
      "  delta = (x1t - x0t) * margin\n"
     ]
    },
    {
     "ename": "IndexError",
     "evalue": "index 0 is out of bounds for axis 0 with size 0",
     "output_type": "error",
     "traceback": [
      "\u001b[1;31m---------------------------------------------------------------------------\u001b[0m",
      "\u001b[1;31mIndexError\u001b[0m                                Traceback (most recent call last)",
      "\u001b[1;32m<ipython-input-189-d4964824e515>\u001b[0m in \u001b[0;36m<module>\u001b[1;34m\u001b[0m\n\u001b[0;32m      4\u001b[0m \u001b[0mplt\u001b[0m\u001b[1;33m.\u001b[0m\u001b[0mplot\u001b[0m\u001b[1;33m(\u001b[0m\u001b[0mdemand_df_AR43\u001b[0m\u001b[1;33m[\u001b[0m\u001b[1;34m\"Building0\"\u001b[0m\u001b[1;33m]\u001b[0m\u001b[1;33m)\u001b[0m\u001b[1;33m\u001b[0m\u001b[1;33m\u001b[0m\u001b[0m\n\u001b[0;32m      5\u001b[0m \u001b[0mplt\u001b[0m\u001b[1;33m.\u001b[0m\u001b[0mtitle\u001b[0m\u001b[1;33m(\u001b[0m\u001b[1;34m\"Log Difference of Building0 + Forecasted October AR(43) Model\"\u001b[0m\u001b[1;33m)\u001b[0m\u001b[1;33m\u001b[0m\u001b[1;33m\u001b[0m\u001b[0m\n\u001b[1;32m----> 6\u001b[1;33m \u001b[0mplt\u001b[0m\u001b[1;33m.\u001b[0m\u001b[0mshow\u001b[0m\u001b[1;33m(\u001b[0m\u001b[1;33m)\u001b[0m\u001b[1;33m\u001b[0m\u001b[1;33m\u001b[0m\u001b[0m\n\u001b[0m",
      "\u001b[1;32m~\\anaconda3\\lib\\site-packages\\matplotlib\\pyplot.py\u001b[0m in \u001b[0;36mshow\u001b[1;34m(*args, **kwargs)\u001b[0m\n\u001b[0;32m    351\u001b[0m     \"\"\"\n\u001b[0;32m    352\u001b[0m     \u001b[0m_warn_if_gui_out_of_main_thread\u001b[0m\u001b[1;33m(\u001b[0m\u001b[1;33m)\u001b[0m\u001b[1;33m\u001b[0m\u001b[1;33m\u001b[0m\u001b[0m\n\u001b[1;32m--> 353\u001b[1;33m     \u001b[1;32mreturn\u001b[0m \u001b[0m_backend_mod\u001b[0m\u001b[1;33m.\u001b[0m\u001b[0mshow\u001b[0m\u001b[1;33m(\u001b[0m\u001b[1;33m*\u001b[0m\u001b[0margs\u001b[0m\u001b[1;33m,\u001b[0m \u001b[1;33m**\u001b[0m\u001b[0mkwargs\u001b[0m\u001b[1;33m)\u001b[0m\u001b[1;33m\u001b[0m\u001b[1;33m\u001b[0m\u001b[0m\n\u001b[0m\u001b[0;32m    354\u001b[0m \u001b[1;33m\u001b[0m\u001b[0m\n\u001b[0;32m    355\u001b[0m \u001b[1;33m\u001b[0m\u001b[0m\n",
      "\u001b[1;32m~\\anaconda3\\lib\\site-packages\\ipykernel\\pylab\\backend_inline.py\u001b[0m in \u001b[0;36mshow\u001b[1;34m(close, block)\u001b[0m\n\u001b[0;32m     41\u001b[0m             display(\n\u001b[0;32m     42\u001b[0m                 \u001b[0mfigure_manager\u001b[0m\u001b[1;33m.\u001b[0m\u001b[0mcanvas\u001b[0m\u001b[1;33m.\u001b[0m\u001b[0mfigure\u001b[0m\u001b[1;33m,\u001b[0m\u001b[1;33m\u001b[0m\u001b[1;33m\u001b[0m\u001b[0m\n\u001b[1;32m---> 43\u001b[1;33m                 \u001b[0mmetadata\u001b[0m\u001b[1;33m=\u001b[0m\u001b[0m_fetch_figure_metadata\u001b[0m\u001b[1;33m(\u001b[0m\u001b[0mfigure_manager\u001b[0m\u001b[1;33m.\u001b[0m\u001b[0mcanvas\u001b[0m\u001b[1;33m.\u001b[0m\u001b[0mfigure\u001b[0m\u001b[1;33m)\u001b[0m\u001b[1;33m\u001b[0m\u001b[1;33m\u001b[0m\u001b[0m\n\u001b[0m\u001b[0;32m     44\u001b[0m             )\n\u001b[0;32m     45\u001b[0m     \u001b[1;32mfinally\u001b[0m\u001b[1;33m:\u001b[0m\u001b[1;33m\u001b[0m\u001b[1;33m\u001b[0m\u001b[0m\n",
      "\u001b[1;32m~\\anaconda3\\lib\\site-packages\\ipykernel\\pylab\\backend_inline.py\u001b[0m in \u001b[0;36m_fetch_figure_metadata\u001b[1;34m(fig)\u001b[0m\n\u001b[0;32m    178\u001b[0m     \u001b[1;32mif\u001b[0m \u001b[0m_is_transparent\u001b[0m\u001b[1;33m(\u001b[0m\u001b[0mfig\u001b[0m\u001b[1;33m.\u001b[0m\u001b[0mget_facecolor\u001b[0m\u001b[1;33m(\u001b[0m\u001b[1;33m)\u001b[0m\u001b[1;33m)\u001b[0m\u001b[1;33m:\u001b[0m\u001b[1;33m\u001b[0m\u001b[1;33m\u001b[0m\u001b[0m\n\u001b[0;32m    179\u001b[0m         \u001b[1;31m# the background is transparent\u001b[0m\u001b[1;33m\u001b[0m\u001b[1;33m\u001b[0m\u001b[1;33m\u001b[0m\u001b[0m\n\u001b[1;32m--> 180\u001b[1;33m         ticksLight = _is_light([label.get_color()\n\u001b[0m\u001b[0;32m    181\u001b[0m                                 \u001b[1;32mfor\u001b[0m \u001b[0maxes\u001b[0m \u001b[1;32min\u001b[0m \u001b[0mfig\u001b[0m\u001b[1;33m.\u001b[0m\u001b[0maxes\u001b[0m\u001b[1;33m\u001b[0m\u001b[1;33m\u001b[0m\u001b[0m\n\u001b[0;32m    182\u001b[0m                                 \u001b[1;32mfor\u001b[0m \u001b[0maxis\u001b[0m \u001b[1;32min\u001b[0m \u001b[1;33m(\u001b[0m\u001b[0maxes\u001b[0m\u001b[1;33m.\u001b[0m\u001b[0mxaxis\u001b[0m\u001b[1;33m,\u001b[0m \u001b[0maxes\u001b[0m\u001b[1;33m.\u001b[0m\u001b[0myaxis\u001b[0m\u001b[1;33m)\u001b[0m\u001b[1;33m\u001b[0m\u001b[1;33m\u001b[0m\u001b[0m\n",
      "\u001b[1;32m~\\anaconda3\\lib\\site-packages\\ipykernel\\pylab\\backend_inline.py\u001b[0m in \u001b[0;36m<listcomp>\u001b[1;34m(.0)\u001b[0m\n\u001b[0;32m    181\u001b[0m                                 \u001b[1;32mfor\u001b[0m \u001b[0maxes\u001b[0m \u001b[1;32min\u001b[0m \u001b[0mfig\u001b[0m\u001b[1;33m.\u001b[0m\u001b[0maxes\u001b[0m\u001b[1;33m\u001b[0m\u001b[1;33m\u001b[0m\u001b[0m\n\u001b[0;32m    182\u001b[0m                                 \u001b[1;32mfor\u001b[0m \u001b[0maxis\u001b[0m \u001b[1;32min\u001b[0m \u001b[1;33m(\u001b[0m\u001b[0maxes\u001b[0m\u001b[1;33m.\u001b[0m\u001b[0mxaxis\u001b[0m\u001b[1;33m,\u001b[0m \u001b[0maxes\u001b[0m\u001b[1;33m.\u001b[0m\u001b[0myaxis\u001b[0m\u001b[1;33m)\u001b[0m\u001b[1;33m\u001b[0m\u001b[1;33m\u001b[0m\u001b[0m\n\u001b[1;32m--> 183\u001b[1;33m                                 for label in axis.get_ticklabels()])\n\u001b[0m\u001b[0;32m    184\u001b[0m         \u001b[1;32mif\u001b[0m \u001b[0mticksLight\u001b[0m\u001b[1;33m.\u001b[0m\u001b[0msize\u001b[0m \u001b[1;32mand\u001b[0m \u001b[1;33m(\u001b[0m\u001b[0mticksLight\u001b[0m \u001b[1;33m==\u001b[0m \u001b[0mticksLight\u001b[0m\u001b[1;33m[\u001b[0m\u001b[1;36m0\u001b[0m\u001b[1;33m]\u001b[0m\u001b[1;33m)\u001b[0m\u001b[1;33m.\u001b[0m\u001b[0mall\u001b[0m\u001b[1;33m(\u001b[0m\u001b[1;33m)\u001b[0m\u001b[1;33m:\u001b[0m\u001b[1;33m\u001b[0m\u001b[1;33m\u001b[0m\u001b[0m\n\u001b[0;32m    185\u001b[0m             \u001b[1;31m# there are one or more tick labels, all with the same lightness\u001b[0m\u001b[1;33m\u001b[0m\u001b[1;33m\u001b[0m\u001b[1;33m\u001b[0m\u001b[0m\n",
      "\u001b[1;32m~\\anaconda3\\lib\\site-packages\\matplotlib\\axis.py\u001b[0m in \u001b[0;36mget_ticklabels\u001b[1;34m(self, minor, which)\u001b[0m\n\u001b[0;32m   1253\u001b[0m         \u001b[1;32mif\u001b[0m \u001b[0mminor\u001b[0m\u001b[1;33m:\u001b[0m\u001b[1;33m\u001b[0m\u001b[1;33m\u001b[0m\u001b[0m\n\u001b[0;32m   1254\u001b[0m             \u001b[1;32mreturn\u001b[0m \u001b[0mself\u001b[0m\u001b[1;33m.\u001b[0m\u001b[0mget_minorticklabels\u001b[0m\u001b[1;33m(\u001b[0m\u001b[1;33m)\u001b[0m\u001b[1;33m\u001b[0m\u001b[1;33m\u001b[0m\u001b[0m\n\u001b[1;32m-> 1255\u001b[1;33m         \u001b[1;32mreturn\u001b[0m \u001b[0mself\u001b[0m\u001b[1;33m.\u001b[0m\u001b[0mget_majorticklabels\u001b[0m\u001b[1;33m(\u001b[0m\u001b[1;33m)\u001b[0m\u001b[1;33m\u001b[0m\u001b[1;33m\u001b[0m\u001b[0m\n\u001b[0m\u001b[0;32m   1256\u001b[0m \u001b[1;33m\u001b[0m\u001b[0m\n\u001b[0;32m   1257\u001b[0m     \u001b[1;32mdef\u001b[0m \u001b[0mget_majorticklines\u001b[0m\u001b[1;33m(\u001b[0m\u001b[0mself\u001b[0m\u001b[1;33m)\u001b[0m\u001b[1;33m:\u001b[0m\u001b[1;33m\u001b[0m\u001b[1;33m\u001b[0m\u001b[0m\n",
      "\u001b[1;32m~\\anaconda3\\lib\\site-packages\\matplotlib\\axis.py\u001b[0m in \u001b[0;36mget_majorticklabels\u001b[1;34m(self)\u001b[0m\n\u001b[0;32m   1205\u001b[0m     \u001b[1;32mdef\u001b[0m \u001b[0mget_majorticklabels\u001b[0m\u001b[1;33m(\u001b[0m\u001b[0mself\u001b[0m\u001b[1;33m)\u001b[0m\u001b[1;33m:\u001b[0m\u001b[1;33m\u001b[0m\u001b[1;33m\u001b[0m\u001b[0m\n\u001b[0;32m   1206\u001b[0m         \u001b[1;34m\"\"\"Return this Axis' major tick labels, as a list of `~.text.Text`.\"\"\"\u001b[0m\u001b[1;33m\u001b[0m\u001b[1;33m\u001b[0m\u001b[0m\n\u001b[1;32m-> 1207\u001b[1;33m         \u001b[0mticks\u001b[0m \u001b[1;33m=\u001b[0m \u001b[0mself\u001b[0m\u001b[1;33m.\u001b[0m\u001b[0mget_major_ticks\u001b[0m\u001b[1;33m(\u001b[0m\u001b[1;33m)\u001b[0m\u001b[1;33m\u001b[0m\u001b[1;33m\u001b[0m\u001b[0m\n\u001b[0m\u001b[0;32m   1208\u001b[0m         \u001b[0mlabels1\u001b[0m \u001b[1;33m=\u001b[0m \u001b[1;33m[\u001b[0m\u001b[0mtick\u001b[0m\u001b[1;33m.\u001b[0m\u001b[0mlabel1\u001b[0m \u001b[1;32mfor\u001b[0m \u001b[0mtick\u001b[0m \u001b[1;32min\u001b[0m \u001b[0mticks\u001b[0m \u001b[1;32mif\u001b[0m \u001b[0mtick\u001b[0m\u001b[1;33m.\u001b[0m\u001b[0mlabel1\u001b[0m\u001b[1;33m.\u001b[0m\u001b[0mget_visible\u001b[0m\u001b[1;33m(\u001b[0m\u001b[1;33m)\u001b[0m\u001b[1;33m]\u001b[0m\u001b[1;33m\u001b[0m\u001b[1;33m\u001b[0m\u001b[0m\n\u001b[0;32m   1209\u001b[0m         \u001b[0mlabels2\u001b[0m \u001b[1;33m=\u001b[0m \u001b[1;33m[\u001b[0m\u001b[0mtick\u001b[0m\u001b[1;33m.\u001b[0m\u001b[0mlabel2\u001b[0m \u001b[1;32mfor\u001b[0m \u001b[0mtick\u001b[0m \u001b[1;32min\u001b[0m \u001b[0mticks\u001b[0m \u001b[1;32mif\u001b[0m \u001b[0mtick\u001b[0m\u001b[1;33m.\u001b[0m\u001b[0mlabel2\u001b[0m\u001b[1;33m.\u001b[0m\u001b[0mget_visible\u001b[0m\u001b[1;33m(\u001b[0m\u001b[1;33m)\u001b[0m\u001b[1;33m]\u001b[0m\u001b[1;33m\u001b[0m\u001b[1;33m\u001b[0m\u001b[0m\n",
      "\u001b[1;32m~\\anaconda3\\lib\\site-packages\\matplotlib\\axis.py\u001b[0m in \u001b[0;36mget_major_ticks\u001b[1;34m(self, numticks)\u001b[0m\n\u001b[0;32m   1376\u001b[0m         \u001b[1;34mr\"\"\"Return the list of major `.Tick`\\s.\"\"\"\u001b[0m\u001b[1;33m\u001b[0m\u001b[1;33m\u001b[0m\u001b[0m\n\u001b[0;32m   1377\u001b[0m         \u001b[1;32mif\u001b[0m \u001b[0mnumticks\u001b[0m \u001b[1;32mis\u001b[0m \u001b[1;32mNone\u001b[0m\u001b[1;33m:\u001b[0m\u001b[1;33m\u001b[0m\u001b[1;33m\u001b[0m\u001b[0m\n\u001b[1;32m-> 1378\u001b[1;33m             \u001b[0mnumticks\u001b[0m \u001b[1;33m=\u001b[0m \u001b[0mlen\u001b[0m\u001b[1;33m(\u001b[0m\u001b[0mself\u001b[0m\u001b[1;33m.\u001b[0m\u001b[0mget_majorticklocs\u001b[0m\u001b[1;33m(\u001b[0m\u001b[1;33m)\u001b[0m\u001b[1;33m)\u001b[0m\u001b[1;33m\u001b[0m\u001b[1;33m\u001b[0m\u001b[0m\n\u001b[0m\u001b[0;32m   1379\u001b[0m \u001b[1;33m\u001b[0m\u001b[0m\n\u001b[0;32m   1380\u001b[0m         \u001b[1;32mwhile\u001b[0m \u001b[0mlen\u001b[0m\u001b[1;33m(\u001b[0m\u001b[0mself\u001b[0m\u001b[1;33m.\u001b[0m\u001b[0mmajorTicks\u001b[0m\u001b[1;33m)\u001b[0m \u001b[1;33m<\u001b[0m \u001b[0mnumticks\u001b[0m\u001b[1;33m:\u001b[0m\u001b[1;33m\u001b[0m\u001b[1;33m\u001b[0m\u001b[0m\n",
      "\u001b[1;32m~\\anaconda3\\lib\\site-packages\\matplotlib\\axis.py\u001b[0m in \u001b[0;36mget_majorticklocs\u001b[1;34m(self)\u001b[0m\n\u001b[0;32m   1281\u001b[0m     \u001b[1;32mdef\u001b[0m \u001b[0mget_majorticklocs\u001b[0m\u001b[1;33m(\u001b[0m\u001b[0mself\u001b[0m\u001b[1;33m)\u001b[0m\u001b[1;33m:\u001b[0m\u001b[1;33m\u001b[0m\u001b[1;33m\u001b[0m\u001b[0m\n\u001b[0;32m   1282\u001b[0m         \u001b[1;34m\"\"\"Return this Axis' major tick locations in data coordinates.\"\"\"\u001b[0m\u001b[1;33m\u001b[0m\u001b[1;33m\u001b[0m\u001b[0m\n\u001b[1;32m-> 1283\u001b[1;33m         \u001b[1;32mreturn\u001b[0m \u001b[0mself\u001b[0m\u001b[1;33m.\u001b[0m\u001b[0mmajor\u001b[0m\u001b[1;33m.\u001b[0m\u001b[0mlocator\u001b[0m\u001b[1;33m(\u001b[0m\u001b[1;33m)\u001b[0m\u001b[1;33m\u001b[0m\u001b[1;33m\u001b[0m\u001b[0m\n\u001b[0m\u001b[0;32m   1284\u001b[0m \u001b[1;33m\u001b[0m\u001b[0m\n\u001b[0;32m   1285\u001b[0m     \u001b[1;32mdef\u001b[0m \u001b[0mget_minorticklocs\u001b[0m\u001b[1;33m(\u001b[0m\u001b[0mself\u001b[0m\u001b[1;33m)\u001b[0m\u001b[1;33m:\u001b[0m\u001b[1;33m\u001b[0m\u001b[1;33m\u001b[0m\u001b[0m\n",
      "\u001b[1;32m~\\anaconda3\\lib\\site-packages\\matplotlib\\ticker.py\u001b[0m in \u001b[0;36m__call__\u001b[1;34m(self)\u001b[0m\n\u001b[0;32m   2274\u001b[0m     \u001b[1;32mdef\u001b[0m \u001b[0m__call__\u001b[0m\u001b[1;33m(\u001b[0m\u001b[0mself\u001b[0m\u001b[1;33m)\u001b[0m\u001b[1;33m:\u001b[0m\u001b[1;33m\u001b[0m\u001b[1;33m\u001b[0m\u001b[0m\n\u001b[0;32m   2275\u001b[0m         \u001b[0mvmin\u001b[0m\u001b[1;33m,\u001b[0m \u001b[0mvmax\u001b[0m \u001b[1;33m=\u001b[0m \u001b[0mself\u001b[0m\u001b[1;33m.\u001b[0m\u001b[0maxis\u001b[0m\u001b[1;33m.\u001b[0m\u001b[0mget_view_interval\u001b[0m\u001b[1;33m(\u001b[0m\u001b[1;33m)\u001b[0m\u001b[1;33m\u001b[0m\u001b[1;33m\u001b[0m\u001b[0m\n\u001b[1;32m-> 2276\u001b[1;33m         \u001b[1;32mreturn\u001b[0m \u001b[0mself\u001b[0m\u001b[1;33m.\u001b[0m\u001b[0mtick_values\u001b[0m\u001b[1;33m(\u001b[0m\u001b[0mvmin\u001b[0m\u001b[1;33m,\u001b[0m \u001b[0mvmax\u001b[0m\u001b[1;33m)\u001b[0m\u001b[1;33m\u001b[0m\u001b[1;33m\u001b[0m\u001b[0m\n\u001b[0m\u001b[0;32m   2277\u001b[0m \u001b[1;33m\u001b[0m\u001b[0m\n\u001b[0;32m   2278\u001b[0m     \u001b[1;32mdef\u001b[0m \u001b[0mtick_values\u001b[0m\u001b[1;33m(\u001b[0m\u001b[0mself\u001b[0m\u001b[1;33m,\u001b[0m \u001b[0mvmin\u001b[0m\u001b[1;33m,\u001b[0m \u001b[0mvmax\u001b[0m\u001b[1;33m)\u001b[0m\u001b[1;33m:\u001b[0m\u001b[1;33m\u001b[0m\u001b[1;33m\u001b[0m\u001b[0m\n",
      "\u001b[1;32m~\\anaconda3\\lib\\site-packages\\matplotlib\\ticker.py\u001b[0m in \u001b[0;36mtick_values\u001b[1;34m(self, vmin, vmax)\u001b[0m\n\u001b[0;32m   2282\u001b[0m         vmin, vmax = mtransforms.nonsingular(\n\u001b[0;32m   2283\u001b[0m             vmin, vmax, expander=1e-13, tiny=1e-14)\n\u001b[1;32m-> 2284\u001b[1;33m         \u001b[0mlocs\u001b[0m \u001b[1;33m=\u001b[0m \u001b[0mself\u001b[0m\u001b[1;33m.\u001b[0m\u001b[0m_raw_ticks\u001b[0m\u001b[1;33m(\u001b[0m\u001b[0mvmin\u001b[0m\u001b[1;33m,\u001b[0m \u001b[0mvmax\u001b[0m\u001b[1;33m)\u001b[0m\u001b[1;33m\u001b[0m\u001b[1;33m\u001b[0m\u001b[0m\n\u001b[0m\u001b[0;32m   2285\u001b[0m \u001b[1;33m\u001b[0m\u001b[0m\n\u001b[0;32m   2286\u001b[0m         \u001b[0mprune\u001b[0m \u001b[1;33m=\u001b[0m \u001b[0mself\u001b[0m\u001b[1;33m.\u001b[0m\u001b[0m_prune\u001b[0m\u001b[1;33m\u001b[0m\u001b[1;33m\u001b[0m\u001b[0m\n",
      "\u001b[1;32m~\\anaconda3\\lib\\site-packages\\matplotlib\\ticker.py\u001b[0m in \u001b[0;36m_raw_ticks\u001b[1;34m(self, vmin, vmax)\u001b[0m\n\u001b[0;32m   2238\u001b[0m             \u001b[0msteps\u001b[0m \u001b[1;33m=\u001b[0m \u001b[0msteps\u001b[0m\u001b[1;33m[\u001b[0m\u001b[0migood\u001b[0m\u001b[1;33m]\u001b[0m\u001b[1;33m\u001b[0m\u001b[1;33m\u001b[0m\u001b[0m\n\u001b[0;32m   2239\u001b[0m \u001b[1;33m\u001b[0m\u001b[0m\n\u001b[1;32m-> 2240\u001b[1;33m         \u001b[0mistep\u001b[0m \u001b[1;33m=\u001b[0m \u001b[0mnp\u001b[0m\u001b[1;33m.\u001b[0m\u001b[0mnonzero\u001b[0m\u001b[1;33m(\u001b[0m\u001b[0msteps\u001b[0m \u001b[1;33m>=\u001b[0m \u001b[0mraw_step\u001b[0m\u001b[1;33m)\u001b[0m\u001b[1;33m[\u001b[0m\u001b[1;36m0\u001b[0m\u001b[1;33m]\u001b[0m\u001b[1;33m[\u001b[0m\u001b[1;36m0\u001b[0m\u001b[1;33m]\u001b[0m\u001b[1;33m\u001b[0m\u001b[1;33m\u001b[0m\u001b[0m\n\u001b[0m\u001b[0;32m   2241\u001b[0m \u001b[1;33m\u001b[0m\u001b[0m\n\u001b[0;32m   2242\u001b[0m         \u001b[1;31m# Classic round_numbers mode may require a larger step.\u001b[0m\u001b[1;33m\u001b[0m\u001b[1;33m\u001b[0m\u001b[1;33m\u001b[0m\u001b[0m\n",
      "\u001b[1;31mIndexError\u001b[0m: index 0 is out of bounds for axis 0 with size 0"
     ]
    }
   ],
   "source": [
    "# Plotting AR(43) model\n",
    "# Plot transformed time series\n",
    "plt.figure(figsize=[15, 7.5]); # Set dimensions for figure\n",
    "plt.plot(demand_df_AR43[\"Building0\"])\n",
    "plt.title(\"Log Difference of Building0 + Forecasted October AR(43) Model\")\n",
    "plt.show()"
   ]
  }
 ],
 "metadata": {
  "interpreter": {
   "hash": "8fac594bfae6525c0c41b4041d2d72effa188cc8ead05f81b1fab2bb098927fb"
  },
  "kernelspec": {
   "display_name": "Python 3",
   "language": "python",
   "name": "python3"
  },
  "language_info": {
   "codemirror_mode": {
    "name": "ipython",
    "version": 3
   },
   "file_extension": ".py",
   "mimetype": "text/x-python",
   "name": "python",
   "nbconvert_exporter": "python",
   "pygments_lexer": "ipython3",
   "version": "3.8.5"
  }
 },
 "nbformat": 4,
 "nbformat_minor": 2
}
