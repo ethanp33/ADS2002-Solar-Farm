{
 "metadata": {
  "language_info": {
   "codemirror_mode": {
    "name": "ipython",
    "version": 3
   },
   "file_extension": ".py",
   "mimetype": "text/x-python",
   "name": "python",
   "nbconvert_exporter": "python",
   "pygments_lexer": "ipython3",
   "version": "3.8.3"
  },
  "orig_nbformat": 4,
  "kernelspec": {
   "name": "python3",
   "display_name": "Python 3.8.3 64-bit ('base': conda)"
  },
  "interpreter": {
   "hash": "bd464b584c65a9de8f128264535a8518425932fdbd290e5407d71f6ac0e47878"
  }
 },
 "nbformat": 4,
 "nbformat_minor": 2,
 "cells": [
  {
   "cell_type": "code",
   "execution_count": 2,
   "metadata": {},
   "outputs": [],
   "source": [
    "import pandas as pd\n",
    "import numpy as np"
   ]
  },
  {
   "cell_type": "code",
   "execution_count": 3,
   "metadata": {},
   "outputs": [],
   "source": [
    "solar_df = pd.read_csv('../Data/solar.csv')"
   ]
  },
  {
   "cell_type": "code",
   "execution_count": 152,
   "metadata": {},
   "outputs": [
    {
     "output_type": "execute_result",
     "data": {
      "text/plain": [
       "        Unnamed: 0        Date  Solar0  Solar1  Solar2  Solar3  Solar4  \\\n",
       "0                0  2016-07-03     NaN     NaN     NaN     NaN     NaN   \n",
       "1                1  2016-07-03     NaN     NaN     NaN     NaN     NaN   \n",
       "2                2  2016-07-03     NaN     NaN     NaN     NaN     NaN   \n",
       "3                3  2016-07-03     NaN     NaN     NaN     NaN     NaN   \n",
       "4                4  2016-07-03     NaN     NaN     NaN     NaN     NaN   \n",
       "...            ...         ...     ...     ...     ...     ...     ...   \n",
       "148805      148805  2020-09-30   29.67    6.68    6.34    5.49    4.55   \n",
       "148806      148806  2020-09-30   29.94    6.71    6.39    5.65    4.57   \n",
       "148807      148807  2020-09-30   34.02    8.13    7.71    6.83    5.32   \n",
       "148808      148808  2020-09-30   38.10    9.55    9.03    8.02    6.08   \n",
       "148809      148809  2020-09-30   39.88   10.12    9.67    8.62    6.33   \n",
       "\n",
       "        Solar5      Time  olympic_solar  oakleigh_solar  moorabbin_solar  \n",
       "0          NaN  21:30:00            7.8             6.8              5.5  \n",
       "1          NaN  21:45:00            7.8             6.8              5.5  \n",
       "2          NaN  22:00:00            7.8             6.8              5.5  \n",
       "3          NaN  22:15:00            7.8             6.8              5.5  \n",
       "4          NaN  22:30:00            7.8             6.8              5.5  \n",
       "...        ...       ...            ...             ...              ...  \n",
       "148805   25.28  22:45:00           13.0            12.6             12.8  \n",
       "148806   25.30  23:00:00           13.0            12.6             12.8  \n",
       "148807   28.62  23:15:00           13.0            12.6             12.8  \n",
       "148808   31.94  23:30:00           13.0            12.6             12.8  \n",
       "148809   32.92  23:45:00           13.0            12.6             12.8  \n",
       "\n",
       "[148810 rows x 12 columns]"
      ],
      "text/html": "<div>\n<style scoped>\n    .dataframe tbody tr th:only-of-type {\n        vertical-align: middle;\n    }\n\n    .dataframe tbody tr th {\n        vertical-align: top;\n    }\n\n    .dataframe thead th {\n        text-align: right;\n    }\n</style>\n<table border=\"1\" class=\"dataframe\">\n  <thead>\n    <tr style=\"text-align: right;\">\n      <th></th>\n      <th>Unnamed: 0</th>\n      <th>Date</th>\n      <th>Solar0</th>\n      <th>Solar1</th>\n      <th>Solar2</th>\n      <th>Solar3</th>\n      <th>Solar4</th>\n      <th>Solar5</th>\n      <th>Time</th>\n      <th>olympic_solar</th>\n      <th>oakleigh_solar</th>\n      <th>moorabbin_solar</th>\n    </tr>\n  </thead>\n  <tbody>\n    <tr>\n      <th>0</th>\n      <td>0</td>\n      <td>2016-07-03</td>\n      <td>NaN</td>\n      <td>NaN</td>\n      <td>NaN</td>\n      <td>NaN</td>\n      <td>NaN</td>\n      <td>NaN</td>\n      <td>21:30:00</td>\n      <td>7.8</td>\n      <td>6.8</td>\n      <td>5.5</td>\n    </tr>\n    <tr>\n      <th>1</th>\n      <td>1</td>\n      <td>2016-07-03</td>\n      <td>NaN</td>\n      <td>NaN</td>\n      <td>NaN</td>\n      <td>NaN</td>\n      <td>NaN</td>\n      <td>NaN</td>\n      <td>21:45:00</td>\n      <td>7.8</td>\n      <td>6.8</td>\n      <td>5.5</td>\n    </tr>\n    <tr>\n      <th>2</th>\n      <td>2</td>\n      <td>2016-07-03</td>\n      <td>NaN</td>\n      <td>NaN</td>\n      <td>NaN</td>\n      <td>NaN</td>\n      <td>NaN</td>\n      <td>NaN</td>\n      <td>22:00:00</td>\n      <td>7.8</td>\n      <td>6.8</td>\n      <td>5.5</td>\n    </tr>\n    <tr>\n      <th>3</th>\n      <td>3</td>\n      <td>2016-07-03</td>\n      <td>NaN</td>\n      <td>NaN</td>\n      <td>NaN</td>\n      <td>NaN</td>\n      <td>NaN</td>\n      <td>NaN</td>\n      <td>22:15:00</td>\n      <td>7.8</td>\n      <td>6.8</td>\n      <td>5.5</td>\n    </tr>\n    <tr>\n      <th>4</th>\n      <td>4</td>\n      <td>2016-07-03</td>\n      <td>NaN</td>\n      <td>NaN</td>\n      <td>NaN</td>\n      <td>NaN</td>\n      <td>NaN</td>\n      <td>NaN</td>\n      <td>22:30:00</td>\n      <td>7.8</td>\n      <td>6.8</td>\n      <td>5.5</td>\n    </tr>\n    <tr>\n      <th>...</th>\n      <td>...</td>\n      <td>...</td>\n      <td>...</td>\n      <td>...</td>\n      <td>...</td>\n      <td>...</td>\n      <td>...</td>\n      <td>...</td>\n      <td>...</td>\n      <td>...</td>\n      <td>...</td>\n      <td>...</td>\n    </tr>\n    <tr>\n      <th>148805</th>\n      <td>148805</td>\n      <td>2020-09-30</td>\n      <td>29.67</td>\n      <td>6.68</td>\n      <td>6.34</td>\n      <td>5.49</td>\n      <td>4.55</td>\n      <td>25.28</td>\n      <td>22:45:00</td>\n      <td>13.0</td>\n      <td>12.6</td>\n      <td>12.8</td>\n    </tr>\n    <tr>\n      <th>148806</th>\n      <td>148806</td>\n      <td>2020-09-30</td>\n      <td>29.94</td>\n      <td>6.71</td>\n      <td>6.39</td>\n      <td>5.65</td>\n      <td>4.57</td>\n      <td>25.30</td>\n      <td>23:00:00</td>\n      <td>13.0</td>\n      <td>12.6</td>\n      <td>12.8</td>\n    </tr>\n    <tr>\n      <th>148807</th>\n      <td>148807</td>\n      <td>2020-09-30</td>\n      <td>34.02</td>\n      <td>8.13</td>\n      <td>7.71</td>\n      <td>6.83</td>\n      <td>5.32</td>\n      <td>28.62</td>\n      <td>23:15:00</td>\n      <td>13.0</td>\n      <td>12.6</td>\n      <td>12.8</td>\n    </tr>\n    <tr>\n      <th>148808</th>\n      <td>148808</td>\n      <td>2020-09-30</td>\n      <td>38.10</td>\n      <td>9.55</td>\n      <td>9.03</td>\n      <td>8.02</td>\n      <td>6.08</td>\n      <td>31.94</td>\n      <td>23:30:00</td>\n      <td>13.0</td>\n      <td>12.6</td>\n      <td>12.8</td>\n    </tr>\n    <tr>\n      <th>148809</th>\n      <td>148809</td>\n      <td>2020-09-30</td>\n      <td>39.88</td>\n      <td>10.12</td>\n      <td>9.67</td>\n      <td>8.62</td>\n      <td>6.33</td>\n      <td>32.92</td>\n      <td>23:45:00</td>\n      <td>13.0</td>\n      <td>12.6</td>\n      <td>12.8</td>\n    </tr>\n  </tbody>\n</table>\n<p>148810 rows × 12 columns</p>\n</div>"
     },
     "metadata": {},
     "execution_count": 152
    }
   ],
   "source": [
    "solar_df"
   ]
  },
  {
   "cell_type": "code",
   "execution_count": 182,
   "metadata": {},
   "outputs": [
    {
     "output_type": "execute_result",
     "data": {
      "text/plain": [
       "        Unnamed: 0        Date  Solar0  Solar1  Solar2  Solar3  Solar4  \\\n",
       "133000      133000  2020-04-19     NaN    7.63    3.50    1.60    1.85   \n",
       "133001      133001  2020-04-19     NaN    7.63    3.50    1.59    1.85   \n",
       "133002      133002  2020-04-19     NaN    7.63    3.50    1.59    1.85   \n",
       "133003      133003  2020-04-19     NaN    7.63    3.50    1.59    1.85   \n",
       "133004      133004  2020-04-19     NaN    7.63    3.50    1.59    1.85   \n",
       "...            ...         ...     ...     ...     ...     ...     ...   \n",
       "133995      133995  2020-04-29     0.0    7.62    3.92    1.18    1.54   \n",
       "133996      133996  2020-04-29     0.0    7.62    3.92    1.17    1.54   \n",
       "133997      133997  2020-04-29     0.0    7.62    3.92    1.17    1.54   \n",
       "133998      133998  2020-04-29     0.0    7.62    3.92    1.17    1.54   \n",
       "133999      133999  2020-04-29     0.0    7.62    3.92    1.17    1.54   \n",
       "\n",
       "        Solar5      Time  olympic_solar  oakleigh_solar  moorabbin_solar  \n",
       "133000     0.0  07:30:00           11.3            11.3             11.4  \n",
       "133001     0.0  07:45:00           11.3            11.3             11.4  \n",
       "133002     0.0  08:00:00           11.3            11.3             11.4  \n",
       "133003     0.0  08:15:00           11.3            11.3             11.4  \n",
       "133004     0.0  08:30:00           11.3            11.3             11.4  \n",
       "...        ...       ...            ...             ...              ...  \n",
       "133995     0.0  16:15:00            3.6             2.6              2.2  \n",
       "133996     0.0  16:30:00            3.6             2.6              2.2  \n",
       "133997     0.0  16:45:00            3.6             2.6              2.2  \n",
       "133998     0.0  17:00:00            3.6             2.6              2.2  \n",
       "133999     0.0  17:15:00            3.6             2.6              2.2  \n",
       "\n",
       "[1000 rows x 12 columns]"
      ],
      "text/html": "<div>\n<style scoped>\n    .dataframe tbody tr th:only-of-type {\n        vertical-align: middle;\n    }\n\n    .dataframe tbody tr th {\n        vertical-align: top;\n    }\n\n    .dataframe thead th {\n        text-align: right;\n    }\n</style>\n<table border=\"1\" class=\"dataframe\">\n  <thead>\n    <tr style=\"text-align: right;\">\n      <th></th>\n      <th>Unnamed: 0</th>\n      <th>Date</th>\n      <th>Solar0</th>\n      <th>Solar1</th>\n      <th>Solar2</th>\n      <th>Solar3</th>\n      <th>Solar4</th>\n      <th>Solar5</th>\n      <th>Time</th>\n      <th>olympic_solar</th>\n      <th>oakleigh_solar</th>\n      <th>moorabbin_solar</th>\n    </tr>\n  </thead>\n  <tbody>\n    <tr>\n      <th>133000</th>\n      <td>133000</td>\n      <td>2020-04-19</td>\n      <td>NaN</td>\n      <td>7.63</td>\n      <td>3.50</td>\n      <td>1.60</td>\n      <td>1.85</td>\n      <td>0.0</td>\n      <td>07:30:00</td>\n      <td>11.3</td>\n      <td>11.3</td>\n      <td>11.4</td>\n    </tr>\n    <tr>\n      <th>133001</th>\n      <td>133001</td>\n      <td>2020-04-19</td>\n      <td>NaN</td>\n      <td>7.63</td>\n      <td>3.50</td>\n      <td>1.59</td>\n      <td>1.85</td>\n      <td>0.0</td>\n      <td>07:45:00</td>\n      <td>11.3</td>\n      <td>11.3</td>\n      <td>11.4</td>\n    </tr>\n    <tr>\n      <th>133002</th>\n      <td>133002</td>\n      <td>2020-04-19</td>\n      <td>NaN</td>\n      <td>7.63</td>\n      <td>3.50</td>\n      <td>1.59</td>\n      <td>1.85</td>\n      <td>0.0</td>\n      <td>08:00:00</td>\n      <td>11.3</td>\n      <td>11.3</td>\n      <td>11.4</td>\n    </tr>\n    <tr>\n      <th>133003</th>\n      <td>133003</td>\n      <td>2020-04-19</td>\n      <td>NaN</td>\n      <td>7.63</td>\n      <td>3.50</td>\n      <td>1.59</td>\n      <td>1.85</td>\n      <td>0.0</td>\n      <td>08:15:00</td>\n      <td>11.3</td>\n      <td>11.3</td>\n      <td>11.4</td>\n    </tr>\n    <tr>\n      <th>133004</th>\n      <td>133004</td>\n      <td>2020-04-19</td>\n      <td>NaN</td>\n      <td>7.63</td>\n      <td>3.50</td>\n      <td>1.59</td>\n      <td>1.85</td>\n      <td>0.0</td>\n      <td>08:30:00</td>\n      <td>11.3</td>\n      <td>11.3</td>\n      <td>11.4</td>\n    </tr>\n    <tr>\n      <th>...</th>\n      <td>...</td>\n      <td>...</td>\n      <td>...</td>\n      <td>...</td>\n      <td>...</td>\n      <td>...</td>\n      <td>...</td>\n      <td>...</td>\n      <td>...</td>\n      <td>...</td>\n      <td>...</td>\n      <td>...</td>\n    </tr>\n    <tr>\n      <th>133995</th>\n      <td>133995</td>\n      <td>2020-04-29</td>\n      <td>0.0</td>\n      <td>7.62</td>\n      <td>3.92</td>\n      <td>1.18</td>\n      <td>1.54</td>\n      <td>0.0</td>\n      <td>16:15:00</td>\n      <td>3.6</td>\n      <td>2.6</td>\n      <td>2.2</td>\n    </tr>\n    <tr>\n      <th>133996</th>\n      <td>133996</td>\n      <td>2020-04-29</td>\n      <td>0.0</td>\n      <td>7.62</td>\n      <td>3.92</td>\n      <td>1.17</td>\n      <td>1.54</td>\n      <td>0.0</td>\n      <td>16:30:00</td>\n      <td>3.6</td>\n      <td>2.6</td>\n      <td>2.2</td>\n    </tr>\n    <tr>\n      <th>133997</th>\n      <td>133997</td>\n      <td>2020-04-29</td>\n      <td>0.0</td>\n      <td>7.62</td>\n      <td>3.92</td>\n      <td>1.17</td>\n      <td>1.54</td>\n      <td>0.0</td>\n      <td>16:45:00</td>\n      <td>3.6</td>\n      <td>2.6</td>\n      <td>2.2</td>\n    </tr>\n    <tr>\n      <th>133998</th>\n      <td>133998</td>\n      <td>2020-04-29</td>\n      <td>0.0</td>\n      <td>7.62</td>\n      <td>3.92</td>\n      <td>1.17</td>\n      <td>1.54</td>\n      <td>0.0</td>\n      <td>17:00:00</td>\n      <td>3.6</td>\n      <td>2.6</td>\n      <td>2.2</td>\n    </tr>\n    <tr>\n      <th>133999</th>\n      <td>133999</td>\n      <td>2020-04-29</td>\n      <td>0.0</td>\n      <td>7.62</td>\n      <td>3.92</td>\n      <td>1.17</td>\n      <td>1.54</td>\n      <td>0.0</td>\n      <td>17:15:00</td>\n      <td>3.6</td>\n      <td>2.6</td>\n      <td>2.2</td>\n    </tr>\n  </tbody>\n</table>\n<p>1000 rows × 12 columns</p>\n</div>"
     },
     "metadata": {},
     "execution_count": 182
    }
   ],
   "source": [
    "solar_df1 = solar_df[133000:134000]\n",
    "solar_df1"
   ]
  },
  {
   "cell_type": "code",
   "execution_count": 175,
   "metadata": {},
   "outputs": [
    {
     "output_type": "execute_result",
     "data": {
      "text/plain": [
       "133001"
      ]
     },
     "metadata": {},
     "execution_count": 175
    }
   ],
   "source": [
    "solar_df1.iat[1,0]"
   ]
  },
  {
   "cell_type": "code",
   "execution_count": 185,
   "metadata": {},
   "outputs": [
    {
     "output_type": "execute_result",
     "data": {
      "text/plain": [
       "              Date  Solar0  Solar1  Solar2  Solar3  Solar4  Solar5      Time  \\\n",
       "0       2016-07-03     NaN     NaN     NaN     NaN     NaN     NaN  21:30:00   \n",
       "1       2016-07-03     NaN     NaN     NaN     NaN     NaN     NaN  21:45:00   \n",
       "2       2016-07-03     NaN     NaN     NaN     NaN     NaN     NaN  22:00:00   \n",
       "3       2016-07-03     NaN     NaN     NaN     NaN     NaN     NaN  22:15:00   \n",
       "4       2016-07-03     NaN     NaN     NaN     NaN     NaN     NaN  22:30:00   \n",
       "...            ...     ...     ...     ...     ...     ...     ...       ...   \n",
       "148805  2020-09-30   29.67    6.68    6.34    5.49    4.55   25.28  22:45:00   \n",
       "148806  2020-09-30   29.94    6.71    6.39    5.65    4.57   25.30  23:00:00   \n",
       "148807  2020-09-30   34.02    8.13    7.71    6.83    5.32   28.62  23:15:00   \n",
       "148808  2020-09-30   38.10    9.55    9.03    8.02    6.08   31.94  23:30:00   \n",
       "148809  2020-09-30   39.88   10.12    9.67    8.62    6.33   32.92  23:45:00   \n",
       "\n",
       "        olympic_solar  oakleigh_solar  moorabbin_solar  \n",
       "0                 7.8             6.8              5.5  \n",
       "1                 7.8             6.8              5.5  \n",
       "2                 7.8             6.8              5.5  \n",
       "3                 7.8             6.8              5.5  \n",
       "4                 7.8             6.8              5.5  \n",
       "...               ...             ...              ...  \n",
       "148805           13.0            12.6             12.8  \n",
       "148806           13.0            12.6             12.8  \n",
       "148807           13.0            12.6             12.8  \n",
       "148808           13.0            12.6             12.8  \n",
       "148809           13.0            12.6             12.8  \n",
       "\n",
       "[148810 rows x 11 columns]"
      ],
      "text/html": "<div>\n<style scoped>\n    .dataframe tbody tr th:only-of-type {\n        vertical-align: middle;\n    }\n\n    .dataframe tbody tr th {\n        vertical-align: top;\n    }\n\n    .dataframe thead th {\n        text-align: right;\n    }\n</style>\n<table border=\"1\" class=\"dataframe\">\n  <thead>\n    <tr style=\"text-align: right;\">\n      <th></th>\n      <th>Date</th>\n      <th>Solar0</th>\n      <th>Solar1</th>\n      <th>Solar2</th>\n      <th>Solar3</th>\n      <th>Solar4</th>\n      <th>Solar5</th>\n      <th>Time</th>\n      <th>olympic_solar</th>\n      <th>oakleigh_solar</th>\n      <th>moorabbin_solar</th>\n    </tr>\n  </thead>\n  <tbody>\n    <tr>\n      <th>0</th>\n      <td>2016-07-03</td>\n      <td>NaN</td>\n      <td>NaN</td>\n      <td>NaN</td>\n      <td>NaN</td>\n      <td>NaN</td>\n      <td>NaN</td>\n      <td>21:30:00</td>\n      <td>7.8</td>\n      <td>6.8</td>\n      <td>5.5</td>\n    </tr>\n    <tr>\n      <th>1</th>\n      <td>2016-07-03</td>\n      <td>NaN</td>\n      <td>NaN</td>\n      <td>NaN</td>\n      <td>NaN</td>\n      <td>NaN</td>\n      <td>NaN</td>\n      <td>21:45:00</td>\n      <td>7.8</td>\n      <td>6.8</td>\n      <td>5.5</td>\n    </tr>\n    <tr>\n      <th>2</th>\n      <td>2016-07-03</td>\n      <td>NaN</td>\n      <td>NaN</td>\n      <td>NaN</td>\n      <td>NaN</td>\n      <td>NaN</td>\n      <td>NaN</td>\n      <td>22:00:00</td>\n      <td>7.8</td>\n      <td>6.8</td>\n      <td>5.5</td>\n    </tr>\n    <tr>\n      <th>3</th>\n      <td>2016-07-03</td>\n      <td>NaN</td>\n      <td>NaN</td>\n      <td>NaN</td>\n      <td>NaN</td>\n      <td>NaN</td>\n      <td>NaN</td>\n      <td>22:15:00</td>\n      <td>7.8</td>\n      <td>6.8</td>\n      <td>5.5</td>\n    </tr>\n    <tr>\n      <th>4</th>\n      <td>2016-07-03</td>\n      <td>NaN</td>\n      <td>NaN</td>\n      <td>NaN</td>\n      <td>NaN</td>\n      <td>NaN</td>\n      <td>NaN</td>\n      <td>22:30:00</td>\n      <td>7.8</td>\n      <td>6.8</td>\n      <td>5.5</td>\n    </tr>\n    <tr>\n      <th>...</th>\n      <td>...</td>\n      <td>...</td>\n      <td>...</td>\n      <td>...</td>\n      <td>...</td>\n      <td>...</td>\n      <td>...</td>\n      <td>...</td>\n      <td>...</td>\n      <td>...</td>\n      <td>...</td>\n    </tr>\n    <tr>\n      <th>148805</th>\n      <td>2020-09-30</td>\n      <td>29.67</td>\n      <td>6.68</td>\n      <td>6.34</td>\n      <td>5.49</td>\n      <td>4.55</td>\n      <td>25.28</td>\n      <td>22:45:00</td>\n      <td>13.0</td>\n      <td>12.6</td>\n      <td>12.8</td>\n    </tr>\n    <tr>\n      <th>148806</th>\n      <td>2020-09-30</td>\n      <td>29.94</td>\n      <td>6.71</td>\n      <td>6.39</td>\n      <td>5.65</td>\n      <td>4.57</td>\n      <td>25.30</td>\n      <td>23:00:00</td>\n      <td>13.0</td>\n      <td>12.6</td>\n      <td>12.8</td>\n    </tr>\n    <tr>\n      <th>148807</th>\n      <td>2020-09-30</td>\n      <td>34.02</td>\n      <td>8.13</td>\n      <td>7.71</td>\n      <td>6.83</td>\n      <td>5.32</td>\n      <td>28.62</td>\n      <td>23:15:00</td>\n      <td>13.0</td>\n      <td>12.6</td>\n      <td>12.8</td>\n    </tr>\n    <tr>\n      <th>148808</th>\n      <td>2020-09-30</td>\n      <td>38.10</td>\n      <td>9.55</td>\n      <td>9.03</td>\n      <td>8.02</td>\n      <td>6.08</td>\n      <td>31.94</td>\n      <td>23:30:00</td>\n      <td>13.0</td>\n      <td>12.6</td>\n      <td>12.8</td>\n    </tr>\n    <tr>\n      <th>148809</th>\n      <td>2020-09-30</td>\n      <td>39.88</td>\n      <td>10.12</td>\n      <td>9.67</td>\n      <td>8.62</td>\n      <td>6.33</td>\n      <td>32.92</td>\n      <td>23:45:00</td>\n      <td>13.0</td>\n      <td>12.6</td>\n      <td>12.8</td>\n    </tr>\n  </tbody>\n</table>\n<p>148810 rows × 11 columns</p>\n</div>"
     },
     "metadata": {},
     "execution_count": 185
    }
   ],
   "source": [
    "solar_df.drop('Unnamed: 0',axis = 1)"
   ]
  },
  {
   "cell_type": "code",
   "execution_count": 190,
   "metadata": {},
   "outputs": [],
   "source": [
    "def removenull(df):\n",
    "    rowsremove = []\n",
    "    k = 0\n",
    "    for i in range(len(df)): #go through each row\n",
    "        for j in range(1,len(df.columns)): # go through each column\n",
    "            if type(df.iat[i,j]) != str:\n",
    "                if df.iat[i,j] <=100:\n",
    "                    k = 2\n",
    "                else:\n",
    "                    rowsremove.append(i)\n",
    "    rowsremove = list(dict.fromkeys(rowsremove))\n",
    "    return rowsremove"
   ]
  },
  {
   "cell_type": "code",
   "execution_count": 191,
   "metadata": {},
   "outputs": [],
   "source": [
    "solar_df = solar_df.drop(removenull(solar_df), axis = 0)"
   ]
  },
  {
   "cell_type": "code",
   "execution_count": 192,
   "metadata": {},
   "outputs": [
    {
     "output_type": "execute_result",
     "data": {
      "text/plain": [
       "        Unnamed: 0        Date  Solar0  Solar1  Solar2  Solar3  Solar4  \\\n",
       "133602      133602  2020-04-25    0.00    7.63    3.75    1.34    1.66   \n",
       "133603      133603  2020-04-25    0.00    7.63    3.75    1.34    1.66   \n",
       "133604      133604  2020-04-25    0.00    7.63    3.75    1.34    1.66   \n",
       "133605      133605  2020-04-25    0.00    7.63    3.75    1.34    1.66   \n",
       "133606      133606  2020-04-25    0.00    7.63    3.75    1.34    1.66   \n",
       "...            ...         ...     ...     ...     ...     ...     ...   \n",
       "148805      148805  2020-09-30   29.67    6.68    6.34    5.49    4.55   \n",
       "148806      148806  2020-09-30   29.94    6.71    6.39    5.65    4.57   \n",
       "148807      148807  2020-09-30   34.02    8.13    7.71    6.83    5.32   \n",
       "148808      148808  2020-09-30   38.10    9.55    9.03    8.02    6.08   \n",
       "148809      148809  2020-09-30   39.88   10.12    9.67    8.62    6.33   \n",
       "\n",
       "        Solar5      Time  olympic_solar  oakleigh_solar  moorabbin_solar  \n",
       "133602    0.00  14:00:00           10.4            10.6             10.2  \n",
       "133603    0.00  14:15:00           10.4            10.6             10.2  \n",
       "133604    0.00  14:30:00           10.4            10.6             10.2  \n",
       "133605    0.00  14:45:00           10.4            10.6             10.2  \n",
       "133606    0.00  15:00:00           10.4            10.6             10.2  \n",
       "...        ...       ...            ...             ...              ...  \n",
       "148805   25.28  22:45:00           13.0            12.6             12.8  \n",
       "148806   25.30  23:00:00           13.0            12.6             12.8  \n",
       "148807   28.62  23:15:00           13.0            12.6             12.8  \n",
       "148808   31.94  23:30:00           13.0            12.6             12.8  \n",
       "148809   32.92  23:45:00           13.0            12.6             12.8  \n",
       "\n",
       "[15208 rows x 12 columns]"
      ],
      "text/html": "<div>\n<style scoped>\n    .dataframe tbody tr th:only-of-type {\n        vertical-align: middle;\n    }\n\n    .dataframe tbody tr th {\n        vertical-align: top;\n    }\n\n    .dataframe thead th {\n        text-align: right;\n    }\n</style>\n<table border=\"1\" class=\"dataframe\">\n  <thead>\n    <tr style=\"text-align: right;\">\n      <th></th>\n      <th>Unnamed: 0</th>\n      <th>Date</th>\n      <th>Solar0</th>\n      <th>Solar1</th>\n      <th>Solar2</th>\n      <th>Solar3</th>\n      <th>Solar4</th>\n      <th>Solar5</th>\n      <th>Time</th>\n      <th>olympic_solar</th>\n      <th>oakleigh_solar</th>\n      <th>moorabbin_solar</th>\n    </tr>\n  </thead>\n  <tbody>\n    <tr>\n      <th>133602</th>\n      <td>133602</td>\n      <td>2020-04-25</td>\n      <td>0.00</td>\n      <td>7.63</td>\n      <td>3.75</td>\n      <td>1.34</td>\n      <td>1.66</td>\n      <td>0.00</td>\n      <td>14:00:00</td>\n      <td>10.4</td>\n      <td>10.6</td>\n      <td>10.2</td>\n    </tr>\n    <tr>\n      <th>133603</th>\n      <td>133603</td>\n      <td>2020-04-25</td>\n      <td>0.00</td>\n      <td>7.63</td>\n      <td>3.75</td>\n      <td>1.34</td>\n      <td>1.66</td>\n      <td>0.00</td>\n      <td>14:15:00</td>\n      <td>10.4</td>\n      <td>10.6</td>\n      <td>10.2</td>\n    </tr>\n    <tr>\n      <th>133604</th>\n      <td>133604</td>\n      <td>2020-04-25</td>\n      <td>0.00</td>\n      <td>7.63</td>\n      <td>3.75</td>\n      <td>1.34</td>\n      <td>1.66</td>\n      <td>0.00</td>\n      <td>14:30:00</td>\n      <td>10.4</td>\n      <td>10.6</td>\n      <td>10.2</td>\n    </tr>\n    <tr>\n      <th>133605</th>\n      <td>133605</td>\n      <td>2020-04-25</td>\n      <td>0.00</td>\n      <td>7.63</td>\n      <td>3.75</td>\n      <td>1.34</td>\n      <td>1.66</td>\n      <td>0.00</td>\n      <td>14:45:00</td>\n      <td>10.4</td>\n      <td>10.6</td>\n      <td>10.2</td>\n    </tr>\n    <tr>\n      <th>133606</th>\n      <td>133606</td>\n      <td>2020-04-25</td>\n      <td>0.00</td>\n      <td>7.63</td>\n      <td>3.75</td>\n      <td>1.34</td>\n      <td>1.66</td>\n      <td>0.00</td>\n      <td>15:00:00</td>\n      <td>10.4</td>\n      <td>10.6</td>\n      <td>10.2</td>\n    </tr>\n    <tr>\n      <th>...</th>\n      <td>...</td>\n      <td>...</td>\n      <td>...</td>\n      <td>...</td>\n      <td>...</td>\n      <td>...</td>\n      <td>...</td>\n      <td>...</td>\n      <td>...</td>\n      <td>...</td>\n      <td>...</td>\n      <td>...</td>\n    </tr>\n    <tr>\n      <th>148805</th>\n      <td>148805</td>\n      <td>2020-09-30</td>\n      <td>29.67</td>\n      <td>6.68</td>\n      <td>6.34</td>\n      <td>5.49</td>\n      <td>4.55</td>\n      <td>25.28</td>\n      <td>22:45:00</td>\n      <td>13.0</td>\n      <td>12.6</td>\n      <td>12.8</td>\n    </tr>\n    <tr>\n      <th>148806</th>\n      <td>148806</td>\n      <td>2020-09-30</td>\n      <td>29.94</td>\n      <td>6.71</td>\n      <td>6.39</td>\n      <td>5.65</td>\n      <td>4.57</td>\n      <td>25.30</td>\n      <td>23:00:00</td>\n      <td>13.0</td>\n      <td>12.6</td>\n      <td>12.8</td>\n    </tr>\n    <tr>\n      <th>148807</th>\n      <td>148807</td>\n      <td>2020-09-30</td>\n      <td>34.02</td>\n      <td>8.13</td>\n      <td>7.71</td>\n      <td>6.83</td>\n      <td>5.32</td>\n      <td>28.62</td>\n      <td>23:15:00</td>\n      <td>13.0</td>\n      <td>12.6</td>\n      <td>12.8</td>\n    </tr>\n    <tr>\n      <th>148808</th>\n      <td>148808</td>\n      <td>2020-09-30</td>\n      <td>38.10</td>\n      <td>9.55</td>\n      <td>9.03</td>\n      <td>8.02</td>\n      <td>6.08</td>\n      <td>31.94</td>\n      <td>23:30:00</td>\n      <td>13.0</td>\n      <td>12.6</td>\n      <td>12.8</td>\n    </tr>\n    <tr>\n      <th>148809</th>\n      <td>148809</td>\n      <td>2020-09-30</td>\n      <td>39.88</td>\n      <td>10.12</td>\n      <td>9.67</td>\n      <td>8.62</td>\n      <td>6.33</td>\n      <td>32.92</td>\n      <td>23:45:00</td>\n      <td>13.0</td>\n      <td>12.6</td>\n      <td>12.8</td>\n    </tr>\n  </tbody>\n</table>\n<p>15208 rows × 12 columns</p>\n</div>"
     },
     "metadata": {},
     "execution_count": 192
    }
   ],
   "source": [
    "solar_df"
   ]
  },
  {
   "cell_type": "code",
   "execution_count": 193,
   "metadata": {},
   "outputs": [
    {
     "output_type": "execute_result",
     "data": {
      "text/plain": [
       "          Unnamed: 0        Solar0        Solar1        Solar2        Solar3  \\\n",
       "count   15208.000000  15208.000000  15208.000000  15208.000000  15208.000000   \n",
       "mean   141205.500000      4.386435      2.587612      1.903342      1.324001   \n",
       "std      4390.315782      8.858768      3.363009      2.547754      2.205833   \n",
       "min    133602.000000      0.000000      0.000000      0.000000      0.000000   \n",
       "25%    137403.750000      0.010000      0.000000      0.000000      0.000000   \n",
       "50%    141205.500000      0.010000      0.160000      0.120000      0.100000   \n",
       "75%    145007.250000      4.130000      6.142500      3.980000      1.340000   \n",
       "max    148809.000000     50.410000     12.680000     12.910000     11.040000   \n",
       "\n",
       "             Solar4        Solar5  olympic_solar  oakleigh_solar  \\\n",
       "count  15208.000000  15208.000000   15208.000000    15208.000000   \n",
       "mean       0.970571      4.537017       9.674066        9.438506   \n",
       "std        1.438830      8.436786       3.582926        3.692676   \n",
       "min        0.000000      0.000000       2.600000        2.600000   \n",
       "25%        0.000000      0.000000       7.400000        7.000000   \n",
       "50%        0.070000      0.000000       9.100000        9.100000   \n",
       "75%        1.440000      5.250000      11.300000       11.300000   \n",
       "max        7.530000     39.570000      20.900000       19.300000   \n",
       "\n",
       "       moorabbin_solar  \n",
       "count     15208.000000  \n",
       "mean          9.652078  \n",
       "std           3.538517  \n",
       "min           2.200000  \n",
       "25%           7.200000  \n",
       "50%           9.100000  \n",
       "75%          11.400000  \n",
       "max          20.600000  "
      ],
      "text/html": "<div>\n<style scoped>\n    .dataframe tbody tr th:only-of-type {\n        vertical-align: middle;\n    }\n\n    .dataframe tbody tr th {\n        vertical-align: top;\n    }\n\n    .dataframe thead th {\n        text-align: right;\n    }\n</style>\n<table border=\"1\" class=\"dataframe\">\n  <thead>\n    <tr style=\"text-align: right;\">\n      <th></th>\n      <th>Unnamed: 0</th>\n      <th>Solar0</th>\n      <th>Solar1</th>\n      <th>Solar2</th>\n      <th>Solar3</th>\n      <th>Solar4</th>\n      <th>Solar5</th>\n      <th>olympic_solar</th>\n      <th>oakleigh_solar</th>\n      <th>moorabbin_solar</th>\n    </tr>\n  </thead>\n  <tbody>\n    <tr>\n      <th>count</th>\n      <td>15208.000000</td>\n      <td>15208.000000</td>\n      <td>15208.000000</td>\n      <td>15208.000000</td>\n      <td>15208.000000</td>\n      <td>15208.000000</td>\n      <td>15208.000000</td>\n      <td>15208.000000</td>\n      <td>15208.000000</td>\n      <td>15208.000000</td>\n    </tr>\n    <tr>\n      <th>mean</th>\n      <td>141205.500000</td>\n      <td>4.386435</td>\n      <td>2.587612</td>\n      <td>1.903342</td>\n      <td>1.324001</td>\n      <td>0.970571</td>\n      <td>4.537017</td>\n      <td>9.674066</td>\n      <td>9.438506</td>\n      <td>9.652078</td>\n    </tr>\n    <tr>\n      <th>std</th>\n      <td>4390.315782</td>\n      <td>8.858768</td>\n      <td>3.363009</td>\n      <td>2.547754</td>\n      <td>2.205833</td>\n      <td>1.438830</td>\n      <td>8.436786</td>\n      <td>3.582926</td>\n      <td>3.692676</td>\n      <td>3.538517</td>\n    </tr>\n    <tr>\n      <th>min</th>\n      <td>133602.000000</td>\n      <td>0.000000</td>\n      <td>0.000000</td>\n      <td>0.000000</td>\n      <td>0.000000</td>\n      <td>0.000000</td>\n      <td>0.000000</td>\n      <td>2.600000</td>\n      <td>2.600000</td>\n      <td>2.200000</td>\n    </tr>\n    <tr>\n      <th>25%</th>\n      <td>137403.750000</td>\n      <td>0.010000</td>\n      <td>0.000000</td>\n      <td>0.000000</td>\n      <td>0.000000</td>\n      <td>0.000000</td>\n      <td>0.000000</td>\n      <td>7.400000</td>\n      <td>7.000000</td>\n      <td>7.200000</td>\n    </tr>\n    <tr>\n      <th>50%</th>\n      <td>141205.500000</td>\n      <td>0.010000</td>\n      <td>0.160000</td>\n      <td>0.120000</td>\n      <td>0.100000</td>\n      <td>0.070000</td>\n      <td>0.000000</td>\n      <td>9.100000</td>\n      <td>9.100000</td>\n      <td>9.100000</td>\n    </tr>\n    <tr>\n      <th>75%</th>\n      <td>145007.250000</td>\n      <td>4.130000</td>\n      <td>6.142500</td>\n      <td>3.980000</td>\n      <td>1.340000</td>\n      <td>1.440000</td>\n      <td>5.250000</td>\n      <td>11.300000</td>\n      <td>11.300000</td>\n      <td>11.400000</td>\n    </tr>\n    <tr>\n      <th>max</th>\n      <td>148809.000000</td>\n      <td>50.410000</td>\n      <td>12.680000</td>\n      <td>12.910000</td>\n      <td>11.040000</td>\n      <td>7.530000</td>\n      <td>39.570000</td>\n      <td>20.900000</td>\n      <td>19.300000</td>\n      <td>20.600000</td>\n    </tr>\n  </tbody>\n</table>\n</div>"
     },
     "metadata": {},
     "execution_count": 193
    }
   ],
   "source": [
    "solar_df.describe()"
   ]
  },
  {
   "cell_type": "code",
   "execution_count": 195,
   "metadata": {},
   "outputs": [],
   "source": [
    "solar_df.to_csv('solar.csv')"
   ]
  },
  {
   "cell_type": "code",
   "execution_count": null,
   "metadata": {},
   "outputs": [],
   "source": []
  }
 ]
}