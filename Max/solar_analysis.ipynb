{
 "metadata": {
  "language_info": {
   "codemirror_mode": {
    "name": "ipython",
    "version": 3
   },
   "file_extension": ".py",
   "mimetype": "text/x-python",
   "name": "python",
   "nbconvert_exporter": "python",
   "pygments_lexer": "ipython3",
   "version": "3.8.3"
  },
  "orig_nbformat": 4,
  "kernelspec": {
   "name": "python3",
   "display_name": "Python 3.8.3 64-bit ('base': conda)"
  },
  "interpreter": {
   "hash": "bd464b584c65a9de8f128264535a8518425932fdbd290e5407d71f6ac0e47878"
  }
 },
 "nbformat": 4,
 "nbformat_minor": 2,
 "cells": [
  {
   "cell_type": "code",
   "execution_count": 1,
   "metadata": {},
   "outputs": [],
   "source": [
    "import pandas as pd\n",
    "import numpy as np"
   ]
  },
  {
   "cell_type": "code",
   "execution_count": 2,
   "metadata": {},
   "outputs": [
    {
     "output_type": "execute_result",
     "data": {
      "text/plain": [
       "   Unnamed: 0  Unnamed: 0.1        Date  Solar0  Solar1  Solar2  Solar3  \\\n",
       "0      133602        133602  2020-04-25     0.0    7.63    3.75    1.34   \n",
       "1      133603        133603  2020-04-25     0.0    7.63    3.75    1.34   \n",
       "2      133604        133604  2020-04-25     0.0    7.63    3.75    1.34   \n",
       "3      133605        133605  2020-04-25     0.0    7.63    3.75    1.34   \n",
       "4      133606        133606  2020-04-25     0.0    7.63    3.75    1.34   \n",
       "\n",
       "   Solar4  Solar5      Time  olympic_solar  oakleigh_solar  moorabbin_solar  \n",
       "0    1.66     0.0  14:00:00           10.4            10.6             10.2  \n",
       "1    1.66     0.0  14:15:00           10.4            10.6             10.2  \n",
       "2    1.66     0.0  14:30:00           10.4            10.6             10.2  \n",
       "3    1.66     0.0  14:45:00           10.4            10.6             10.2  \n",
       "4    1.66     0.0  15:00:00           10.4            10.6             10.2  "
      ],
      "text/html": "<div>\n<style scoped>\n    .dataframe tbody tr th:only-of-type {\n        vertical-align: middle;\n    }\n\n    .dataframe tbody tr th {\n        vertical-align: top;\n    }\n\n    .dataframe thead th {\n        text-align: right;\n    }\n</style>\n<table border=\"1\" class=\"dataframe\">\n  <thead>\n    <tr style=\"text-align: right;\">\n      <th></th>\n      <th>Unnamed: 0</th>\n      <th>Unnamed: 0.1</th>\n      <th>Date</th>\n      <th>Solar0</th>\n      <th>Solar1</th>\n      <th>Solar2</th>\n      <th>Solar3</th>\n      <th>Solar4</th>\n      <th>Solar5</th>\n      <th>Time</th>\n      <th>olympic_solar</th>\n      <th>oakleigh_solar</th>\n      <th>moorabbin_solar</th>\n    </tr>\n  </thead>\n  <tbody>\n    <tr>\n      <th>0</th>\n      <td>133602</td>\n      <td>133602</td>\n      <td>2020-04-25</td>\n      <td>0.0</td>\n      <td>7.63</td>\n      <td>3.75</td>\n      <td>1.34</td>\n      <td>1.66</td>\n      <td>0.0</td>\n      <td>14:00:00</td>\n      <td>10.4</td>\n      <td>10.6</td>\n      <td>10.2</td>\n    </tr>\n    <tr>\n      <th>1</th>\n      <td>133603</td>\n      <td>133603</td>\n      <td>2020-04-25</td>\n      <td>0.0</td>\n      <td>7.63</td>\n      <td>3.75</td>\n      <td>1.34</td>\n      <td>1.66</td>\n      <td>0.0</td>\n      <td>14:15:00</td>\n      <td>10.4</td>\n      <td>10.6</td>\n      <td>10.2</td>\n    </tr>\n    <tr>\n      <th>2</th>\n      <td>133604</td>\n      <td>133604</td>\n      <td>2020-04-25</td>\n      <td>0.0</td>\n      <td>7.63</td>\n      <td>3.75</td>\n      <td>1.34</td>\n      <td>1.66</td>\n      <td>0.0</td>\n      <td>14:30:00</td>\n      <td>10.4</td>\n      <td>10.6</td>\n      <td>10.2</td>\n    </tr>\n    <tr>\n      <th>3</th>\n      <td>133605</td>\n      <td>133605</td>\n      <td>2020-04-25</td>\n      <td>0.0</td>\n      <td>7.63</td>\n      <td>3.75</td>\n      <td>1.34</td>\n      <td>1.66</td>\n      <td>0.0</td>\n      <td>14:45:00</td>\n      <td>10.4</td>\n      <td>10.6</td>\n      <td>10.2</td>\n    </tr>\n    <tr>\n      <th>4</th>\n      <td>133606</td>\n      <td>133606</td>\n      <td>2020-04-25</td>\n      <td>0.0</td>\n      <td>7.63</td>\n      <td>3.75</td>\n      <td>1.34</td>\n      <td>1.66</td>\n      <td>0.0</td>\n      <td>15:00:00</td>\n      <td>10.4</td>\n      <td>10.6</td>\n      <td>10.2</td>\n    </tr>\n  </tbody>\n</table>\n</div>"
     },
     "metadata": {},
     "execution_count": 2
    }
   ],
   "source": [
    "solar_df = pd.read_csv('../Data/solar.csv')\n",
    "solar_df.head()"
   ]
  },
  {
   "cell_type": "code",
   "execution_count": 3,
   "metadata": {},
   "outputs": [
    {
     "output_type": "execute_result",
     "data": {
      "text/plain": [
       "          Unnamed: 0   Unnamed: 0.1        Solar0        Solar1        Solar2  \\\n",
       "count   15208.000000   15208.000000  15208.000000  15208.000000  15208.000000   \n",
       "mean   141205.500000  141205.500000      4.386435      2.587612      1.903342   \n",
       "std      4390.315782    4390.315782      8.858768      3.363009      2.547754   \n",
       "min    133602.000000  133602.000000      0.000000      0.000000      0.000000   \n",
       "25%    137403.750000  137403.750000      0.010000      0.000000      0.000000   \n",
       "50%    141205.500000  141205.500000      0.010000      0.160000      0.120000   \n",
       "75%    145007.250000  145007.250000      4.130000      6.142500      3.980000   \n",
       "max    148809.000000  148809.000000     50.410000     12.680000     12.910000   \n",
       "\n",
       "             Solar3        Solar4        Solar5  olympic_solar  \\\n",
       "count  15208.000000  15208.000000  15208.000000   15208.000000   \n",
       "mean       1.324001      0.970571      4.537017       9.674066   \n",
       "std        2.205833      1.438830      8.436786       3.582926   \n",
       "min        0.000000      0.000000      0.000000       2.600000   \n",
       "25%        0.000000      0.000000      0.000000       7.400000   \n",
       "50%        0.100000      0.070000      0.000000       9.100000   \n",
       "75%        1.340000      1.440000      5.250000      11.300000   \n",
       "max       11.040000      7.530000     39.570000      20.900000   \n",
       "\n",
       "       oakleigh_solar  moorabbin_solar  \n",
       "count    15208.000000     15208.000000  \n",
       "mean         9.438506         9.652078  \n",
       "std          3.692676         3.538517  \n",
       "min          2.600000         2.200000  \n",
       "25%          7.000000         7.200000  \n",
       "50%          9.100000         9.100000  \n",
       "75%         11.300000        11.400000  \n",
       "max         19.300000        20.600000  "
      ],
      "text/html": "<div>\n<style scoped>\n    .dataframe tbody tr th:only-of-type {\n        vertical-align: middle;\n    }\n\n    .dataframe tbody tr th {\n        vertical-align: top;\n    }\n\n    .dataframe thead th {\n        text-align: right;\n    }\n</style>\n<table border=\"1\" class=\"dataframe\">\n  <thead>\n    <tr style=\"text-align: right;\">\n      <th></th>\n      <th>Unnamed: 0</th>\n      <th>Unnamed: 0.1</th>\n      <th>Solar0</th>\n      <th>Solar1</th>\n      <th>Solar2</th>\n      <th>Solar3</th>\n      <th>Solar4</th>\n      <th>Solar5</th>\n      <th>olympic_solar</th>\n      <th>oakleigh_solar</th>\n      <th>moorabbin_solar</th>\n    </tr>\n  </thead>\n  <tbody>\n    <tr>\n      <th>count</th>\n      <td>15208.000000</td>\n      <td>15208.000000</td>\n      <td>15208.000000</td>\n      <td>15208.000000</td>\n      <td>15208.000000</td>\n      <td>15208.000000</td>\n      <td>15208.000000</td>\n      <td>15208.000000</td>\n      <td>15208.000000</td>\n      <td>15208.000000</td>\n      <td>15208.000000</td>\n    </tr>\n    <tr>\n      <th>mean</th>\n      <td>141205.500000</td>\n      <td>141205.500000</td>\n      <td>4.386435</td>\n      <td>2.587612</td>\n      <td>1.903342</td>\n      <td>1.324001</td>\n      <td>0.970571</td>\n      <td>4.537017</td>\n      <td>9.674066</td>\n      <td>9.438506</td>\n      <td>9.652078</td>\n    </tr>\n    <tr>\n      <th>std</th>\n      <td>4390.315782</td>\n      <td>4390.315782</td>\n      <td>8.858768</td>\n      <td>3.363009</td>\n      <td>2.547754</td>\n      <td>2.205833</td>\n      <td>1.438830</td>\n      <td>8.436786</td>\n      <td>3.582926</td>\n      <td>3.692676</td>\n      <td>3.538517</td>\n    </tr>\n    <tr>\n      <th>min</th>\n      <td>133602.000000</td>\n      <td>133602.000000</td>\n      <td>0.000000</td>\n      <td>0.000000</td>\n      <td>0.000000</td>\n      <td>0.000000</td>\n      <td>0.000000</td>\n      <td>0.000000</td>\n      <td>2.600000</td>\n      <td>2.600000</td>\n      <td>2.200000</td>\n    </tr>\n    <tr>\n      <th>25%</th>\n      <td>137403.750000</td>\n      <td>137403.750000</td>\n      <td>0.010000</td>\n      <td>0.000000</td>\n      <td>0.000000</td>\n      <td>0.000000</td>\n      <td>0.000000</td>\n      <td>0.000000</td>\n      <td>7.400000</td>\n      <td>7.000000</td>\n      <td>7.200000</td>\n    </tr>\n    <tr>\n      <th>50%</th>\n      <td>141205.500000</td>\n      <td>141205.500000</td>\n      <td>0.010000</td>\n      <td>0.160000</td>\n      <td>0.120000</td>\n      <td>0.100000</td>\n      <td>0.070000</td>\n      <td>0.000000</td>\n      <td>9.100000</td>\n      <td>9.100000</td>\n      <td>9.100000</td>\n    </tr>\n    <tr>\n      <th>75%</th>\n      <td>145007.250000</td>\n      <td>145007.250000</td>\n      <td>4.130000</td>\n      <td>6.142500</td>\n      <td>3.980000</td>\n      <td>1.340000</td>\n      <td>1.440000</td>\n      <td>5.250000</td>\n      <td>11.300000</td>\n      <td>11.300000</td>\n      <td>11.400000</td>\n    </tr>\n    <tr>\n      <th>max</th>\n      <td>148809.000000</td>\n      <td>148809.000000</td>\n      <td>50.410000</td>\n      <td>12.680000</td>\n      <td>12.910000</td>\n      <td>11.040000</td>\n      <td>7.530000</td>\n      <td>39.570000</td>\n      <td>20.900000</td>\n      <td>19.300000</td>\n      <td>20.600000</td>\n    </tr>\n  </tbody>\n</table>\n</div>"
     },
     "metadata": {},
     "execution_count": 3
    }
   ],
   "source": [
    "solar_df.describe()"
   ]
  },
  {
   "cell_type": "code",
   "execution_count": null,
   "metadata": {},
   "outputs": [],
   "source": []
  }
 ]
}