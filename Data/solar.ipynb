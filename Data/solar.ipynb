{
 "metadata": {
  "language_info": {
   "codemirror_mode": {
    "name": "ipython",
    "version": 3
   },
   "file_extension": ".py",
   "mimetype": "text/x-python",
   "name": "python",
   "nbconvert_exporter": "python",
   "pygments_lexer": "ipython3",
   "version": "3.8.3"
  },
  "orig_nbformat": 4,
  "kernelspec": {
   "name": "python3",
   "display_name": "Python 3.8.3 64-bit ('base': conda)"
  },
  "interpreter": {
   "hash": "bd464b584c65a9de8f128264535a8518425932fdbd290e5407d71f6ac0e47878"
  }
 },
 "nbformat": 4,
 "nbformat_minor": 2,
 "cells": [
  {
   "source": [
    "## Solar Predictions"
   ],
   "cell_type": "markdown",
   "metadata": {}
  },
  {
   "cell_type": "code",
   "execution_count": 6,
   "metadata": {},
   "outputs": [],
   "source": [
    "import pandas as pd\n",
    "import numpy as np\n",
    "import math"
   ]
  },
  {
   "cell_type": "code",
   "execution_count": 7,
   "metadata": {},
   "outputs": [],
   "source": [
    "demand_df = pd.read_csv('../Data/demand.csv')\n",
    "solarval_df = demand_df.drop(['Building0','Building1','Building3','Building4','Building5', 'Building6'], axis = 1)\n",
    "weather_df = pd.read_csv('../Data/weather.csv')\n",
    "solarexp_df = weather_df[['Date','olympic_solar', 'oakleigh_solar', 'moorabbin_solar']]"
   ]
  },
  {
   "cell_type": "code",
   "execution_count": 8,
   "metadata": {},
   "outputs": [
    {
     "output_type": "execute_result",
     "data": {
      "text/plain": [
       "                  Date  Solar0  Solar1  Solar2  Solar3  Solar4  Solar5  Time\n",
       "0  2016-07-03 21:30:00     NaN     NaN     NaN     NaN     NaN     NaN  20.0\n",
       "1  2016-07-03 21:45:00     NaN     NaN     NaN     NaN     NaN     NaN   NaN\n",
       "2  2016-07-03 22:00:00     NaN     NaN     NaN     NaN     NaN     NaN   NaN\n",
       "3  2016-07-03 22:15:00     NaN     NaN     NaN     NaN     NaN     NaN   NaN\n",
       "4  2016-07-03 22:30:00     NaN     NaN     NaN     NaN     NaN     NaN   NaN"
      ],
      "text/html": "<div>\n<style scoped>\n    .dataframe tbody tr th:only-of-type {\n        vertical-align: middle;\n    }\n\n    .dataframe tbody tr th {\n        vertical-align: top;\n    }\n\n    .dataframe thead th {\n        text-align: right;\n    }\n</style>\n<table border=\"1\" class=\"dataframe\">\n  <thead>\n    <tr style=\"text-align: right;\">\n      <th></th>\n      <th>Date</th>\n      <th>Solar0</th>\n      <th>Solar1</th>\n      <th>Solar2</th>\n      <th>Solar3</th>\n      <th>Solar4</th>\n      <th>Solar5</th>\n      <th>Time</th>\n    </tr>\n  </thead>\n  <tbody>\n    <tr>\n      <th>0</th>\n      <td>2016-07-03 21:30:00</td>\n      <td>NaN</td>\n      <td>NaN</td>\n      <td>NaN</td>\n      <td>NaN</td>\n      <td>NaN</td>\n      <td>NaN</td>\n      <td>20.0</td>\n    </tr>\n    <tr>\n      <th>1</th>\n      <td>2016-07-03 21:45:00</td>\n      <td>NaN</td>\n      <td>NaN</td>\n      <td>NaN</td>\n      <td>NaN</td>\n      <td>NaN</td>\n      <td>NaN</td>\n      <td>NaN</td>\n    </tr>\n    <tr>\n      <th>2</th>\n      <td>2016-07-03 22:00:00</td>\n      <td>NaN</td>\n      <td>NaN</td>\n      <td>NaN</td>\n      <td>NaN</td>\n      <td>NaN</td>\n      <td>NaN</td>\n      <td>NaN</td>\n    </tr>\n    <tr>\n      <th>3</th>\n      <td>2016-07-03 22:15:00</td>\n      <td>NaN</td>\n      <td>NaN</td>\n      <td>NaN</td>\n      <td>NaN</td>\n      <td>NaN</td>\n      <td>NaN</td>\n      <td>NaN</td>\n    </tr>\n    <tr>\n      <th>4</th>\n      <td>2016-07-03 22:30:00</td>\n      <td>NaN</td>\n      <td>NaN</td>\n      <td>NaN</td>\n      <td>NaN</td>\n      <td>NaN</td>\n      <td>NaN</td>\n      <td>NaN</td>\n    </tr>\n  </tbody>\n</table>\n</div>"
     },
     "metadata": {},
     "execution_count": 8
    }
   ],
   "source": [
    "solarval_df['Time'] = np.nan\n",
    "solarval_df.loc[0,'Time'] = 20\n",
    "solarval_df.head()"
   ]
  },
  {
   "cell_type": "code",
   "execution_count": 9,
   "metadata": {},
   "outputs": [],
   "source": [
    "i = 0\n",
    "\n",
    "while i < 148810:  \n",
    "    j = solarval_df.iat[i,0]\n",
    "    solarval_df.loc[i,'Time'] = j[11:19]\n",
    "    i+=1"
   ]
  },
  {
   "cell_type": "code",
   "execution_count": 10,
   "metadata": {},
   "outputs": [],
   "source": [
    "i = 0 \n",
    "while i < 148810:  \n",
    "    j = solarval_df.iat[i,0]\n",
    "    j = j[0:10]\n",
    "    solarval_df.iat[i,0] = j\n",
    "    i+=1"
   ]
  },
  {
   "cell_type": "code",
   "execution_count": 11,
   "metadata": {},
   "outputs": [
    {
     "output_type": "execute_result",
     "data": {
      "text/plain": [
       "              Date  Solar0  Solar1  Solar2  Solar3  Solar4  Solar5      Time\n",
       "148805  2020-09-30   29.67    6.68    6.34    5.49    4.55   25.28  22:45:00\n",
       "148806  2020-09-30   29.94    6.71    6.39    5.65    4.57   25.30  23:00:00\n",
       "148807  2020-09-30   34.02    8.13    7.71    6.83    5.32   28.62  23:15:00\n",
       "148808  2020-09-30   38.10    9.55    9.03    8.02    6.08   31.94  23:30:00\n",
       "148809  2020-09-30   39.88   10.12    9.67    8.62    6.33   32.92  23:45:00"
      ],
      "text/html": "<div>\n<style scoped>\n    .dataframe tbody tr th:only-of-type {\n        vertical-align: middle;\n    }\n\n    .dataframe tbody tr th {\n        vertical-align: top;\n    }\n\n    .dataframe thead th {\n        text-align: right;\n    }\n</style>\n<table border=\"1\" class=\"dataframe\">\n  <thead>\n    <tr style=\"text-align: right;\">\n      <th></th>\n      <th>Date</th>\n      <th>Solar0</th>\n      <th>Solar1</th>\n      <th>Solar2</th>\n      <th>Solar3</th>\n      <th>Solar4</th>\n      <th>Solar5</th>\n      <th>Time</th>\n    </tr>\n  </thead>\n  <tbody>\n    <tr>\n      <th>148805</th>\n      <td>2020-09-30</td>\n      <td>29.67</td>\n      <td>6.68</td>\n      <td>6.34</td>\n      <td>5.49</td>\n      <td>4.55</td>\n      <td>25.28</td>\n      <td>22:45:00</td>\n    </tr>\n    <tr>\n      <th>148806</th>\n      <td>2020-09-30</td>\n      <td>29.94</td>\n      <td>6.71</td>\n      <td>6.39</td>\n      <td>5.65</td>\n      <td>4.57</td>\n      <td>25.30</td>\n      <td>23:00:00</td>\n    </tr>\n    <tr>\n      <th>148807</th>\n      <td>2020-09-30</td>\n      <td>34.02</td>\n      <td>8.13</td>\n      <td>7.71</td>\n      <td>6.83</td>\n      <td>5.32</td>\n      <td>28.62</td>\n      <td>23:15:00</td>\n    </tr>\n    <tr>\n      <th>148808</th>\n      <td>2020-09-30</td>\n      <td>38.10</td>\n      <td>9.55</td>\n      <td>9.03</td>\n      <td>8.02</td>\n      <td>6.08</td>\n      <td>31.94</td>\n      <td>23:30:00</td>\n    </tr>\n    <tr>\n      <th>148809</th>\n      <td>2020-09-30</td>\n      <td>39.88</td>\n      <td>10.12</td>\n      <td>9.67</td>\n      <td>8.62</td>\n      <td>6.33</td>\n      <td>32.92</td>\n      <td>23:45:00</td>\n    </tr>\n  </tbody>\n</table>\n</div>"
     },
     "metadata": {},
     "execution_count": 11
    }
   ],
   "source": [
    "solarval_df.tail()"
   ]
  },
  {
   "cell_type": "code",
   "execution_count": 12,
   "metadata": {},
   "outputs": [
    {
     "output_type": "execute_result",
     "data": {
      "text/plain": [
       "         Date  Solar0  Solar1  Solar2  Solar3  Solar4  Solar5      Time  \\\n",
       "0  2016-07-03     NaN     NaN     NaN     NaN     NaN     NaN  21:30:00   \n",
       "1  2016-07-03     NaN     NaN     NaN     NaN     NaN     NaN  21:45:00   \n",
       "2  2016-07-03     NaN     NaN     NaN     NaN     NaN     NaN  22:00:00   \n",
       "3  2016-07-03     NaN     NaN     NaN     NaN     NaN     NaN  22:15:00   \n",
       "4  2016-07-03     NaN     NaN     NaN     NaN     NaN     NaN  22:30:00   \n",
       "\n",
       "   olympic_solar  oakleigh_solar  moorabbin_solar  \n",
       "0            7.8             6.8              5.5  \n",
       "1            7.8             6.8              5.5  \n",
       "2            7.8             6.8              5.5  \n",
       "3            7.8             6.8              5.5  \n",
       "4            7.8             6.8              5.5  "
      ],
      "text/html": "<div>\n<style scoped>\n    .dataframe tbody tr th:only-of-type {\n        vertical-align: middle;\n    }\n\n    .dataframe tbody tr th {\n        vertical-align: top;\n    }\n\n    .dataframe thead th {\n        text-align: right;\n    }\n</style>\n<table border=\"1\" class=\"dataframe\">\n  <thead>\n    <tr style=\"text-align: right;\">\n      <th></th>\n      <th>Date</th>\n      <th>Solar0</th>\n      <th>Solar1</th>\n      <th>Solar2</th>\n      <th>Solar3</th>\n      <th>Solar4</th>\n      <th>Solar5</th>\n      <th>Time</th>\n      <th>olympic_solar</th>\n      <th>oakleigh_solar</th>\n      <th>moorabbin_solar</th>\n    </tr>\n  </thead>\n  <tbody>\n    <tr>\n      <th>0</th>\n      <td>2016-07-03</td>\n      <td>NaN</td>\n      <td>NaN</td>\n      <td>NaN</td>\n      <td>NaN</td>\n      <td>NaN</td>\n      <td>NaN</td>\n      <td>21:30:00</td>\n      <td>7.8</td>\n      <td>6.8</td>\n      <td>5.5</td>\n    </tr>\n    <tr>\n      <th>1</th>\n      <td>2016-07-03</td>\n      <td>NaN</td>\n      <td>NaN</td>\n      <td>NaN</td>\n      <td>NaN</td>\n      <td>NaN</td>\n      <td>NaN</td>\n      <td>21:45:00</td>\n      <td>7.8</td>\n      <td>6.8</td>\n      <td>5.5</td>\n    </tr>\n    <tr>\n      <th>2</th>\n      <td>2016-07-03</td>\n      <td>NaN</td>\n      <td>NaN</td>\n      <td>NaN</td>\n      <td>NaN</td>\n      <td>NaN</td>\n      <td>NaN</td>\n      <td>22:00:00</td>\n      <td>7.8</td>\n      <td>6.8</td>\n      <td>5.5</td>\n    </tr>\n    <tr>\n      <th>3</th>\n      <td>2016-07-03</td>\n      <td>NaN</td>\n      <td>NaN</td>\n      <td>NaN</td>\n      <td>NaN</td>\n      <td>NaN</td>\n      <td>NaN</td>\n      <td>22:15:00</td>\n      <td>7.8</td>\n      <td>6.8</td>\n      <td>5.5</td>\n    </tr>\n    <tr>\n      <th>4</th>\n      <td>2016-07-03</td>\n      <td>NaN</td>\n      <td>NaN</td>\n      <td>NaN</td>\n      <td>NaN</td>\n      <td>NaN</td>\n      <td>NaN</td>\n      <td>22:30:00</td>\n      <td>7.8</td>\n      <td>6.8</td>\n      <td>5.5</td>\n    </tr>\n  </tbody>\n</table>\n</div>"
     },
     "metadata": {},
     "execution_count": 12
    }
   ],
   "source": [
    "solarmain_df = pd.merge(solarval_df, solarexp_df, how = 'inner')\n",
    "\n",
    "solarmain_df.head()"
   ]
  },
  {
   "cell_type": "code",
   "execution_count": 13,
   "metadata": {},
   "outputs": [
    {
     "output_type": "execute_result",
     "data": {
      "text/plain": [
       "False"
      ]
     },
     "metadata": {},
     "execution_count": 13
    }
   ],
   "source": [
    "solarmain_df1 = solarmain_df[139000:140000]\n",
    "math.isnan(solarmain_df1.iat[0,5])"
   ]
  },
  {
   "cell_type": "code",
   "execution_count": 14,
   "metadata": {},
   "outputs": [
    {
     "output_type": "execute_result",
     "data": {
      "text/plain": [
       "True"
      ]
     },
     "metadata": {},
     "execution_count": 14
    }
   ],
   "source": [
    "type(solarmain_df1.iat[0,0]) == str"
   ]
  },
  {
   "cell_type": "code",
   "execution_count": 15,
   "metadata": {},
   "outputs": [],
   "source": [
    "def removenull(df):\n",
    "    rowsremove = []\n",
    "    for i in range(len(df)): #go through each row\n",
    "        for j in range(len(df.columns)): # go through each column\n",
    "            if type(df.iat[i,j]) != str:\n",
    "                rowsremove.append(i)\n",
    "                if df.iat[i,j] <=1000:\n",
    "                    if df.iat[i,j] >=0:\n",
    "                        rowsremove.remove(i)\n",
    "    rowsremove = list(dict.fromkeys(rowsremove))\n",
    "    df.drop(rowsremove, axis = 0)\n",
    "    return rowsremove"
   ]
  },
  {
   "cell_type": "code",
   "execution_count": 202,
   "metadata": {},
   "outputs": [
    {
     "output_type": "execute_result",
     "data": {
      "text/plain": [
       "4.87"
      ]
     },
     "metadata": {},
     "execution_count": 202
    }
   ],
   "source": [
    "solarmain_df.iat[130000,2]"
   ]
  },
  {
   "cell_type": "code",
   "execution_count": 16,
   "metadata": {},
   "outputs": [
    {
     "output_type": "execute_result",
     "data": {
      "text/plain": [
       "              Date  Solar0  Solar1  Solar2  Solar3  Solar4  Solar5      Time  \\\n",
       "139000  2020-06-20    0.01    0.00    0.00    0.00    0.00    0.00  19:30:00   \n",
       "139001  2020-06-20    0.01    0.00    0.00    0.00    0.00    0.00  19:45:00   \n",
       "139002  2020-06-20    0.01    0.00    0.00    0.00    0.00    0.00  20:00:00   \n",
       "139003  2020-06-20    0.01    0.00    0.00    0.00    0.00    0.00  20:15:00   \n",
       "139004  2020-06-20    0.01    0.00    0.00    0.00    0.00    0.00  20:30:00   \n",
       "...            ...     ...     ...     ...     ...     ...     ...       ...   \n",
       "139995  2020-07-01   14.14    6.57    5.12    5.13    3.09   14.43  04:15:00   \n",
       "139996  2020-07-01   12.79    6.09    4.62    4.78    2.83   13.61  04:30:00   \n",
       "139997  2020-07-01   10.80    5.38    4.08    4.28    2.49   12.54  04:45:00   \n",
       "139998  2020-07-01    8.81    4.67    3.54    3.77    2.15   11.46  05:00:00   \n",
       "139999  2020-07-01    7.06    3.82    2.85    3.06    1.77    9.76  05:15:00   \n",
       "\n",
       "        olympic_solar  oakleigh_solar  moorabbin_solar  \n",
       "139000            8.5             9.1              9.0  \n",
       "139001            8.5             9.1              9.0  \n",
       "139002            8.5             9.1              9.0  \n",
       "139003            8.5             9.1              9.0  \n",
       "139004            8.5             9.1              9.0  \n",
       "...               ...             ...              ...  \n",
       "139995            9.1             9.1              8.8  \n",
       "139996            9.1             9.1              8.8  \n",
       "139997            9.1             9.1              8.8  \n",
       "139998            9.1             9.1              8.8  \n",
       "139999            9.1             9.1              8.8  \n",
       "\n",
       "[1000 rows x 11 columns]"
      ],
      "text/html": "<div>\n<style scoped>\n    .dataframe tbody tr th:only-of-type {\n        vertical-align: middle;\n    }\n\n    .dataframe tbody tr th {\n        vertical-align: top;\n    }\n\n    .dataframe thead th {\n        text-align: right;\n    }\n</style>\n<table border=\"1\" class=\"dataframe\">\n  <thead>\n    <tr style=\"text-align: right;\">\n      <th></th>\n      <th>Date</th>\n      <th>Solar0</th>\n      <th>Solar1</th>\n      <th>Solar2</th>\n      <th>Solar3</th>\n      <th>Solar4</th>\n      <th>Solar5</th>\n      <th>Time</th>\n      <th>olympic_solar</th>\n      <th>oakleigh_solar</th>\n      <th>moorabbin_solar</th>\n    </tr>\n  </thead>\n  <tbody>\n    <tr>\n      <th>139000</th>\n      <td>2020-06-20</td>\n      <td>0.01</td>\n      <td>0.00</td>\n      <td>0.00</td>\n      <td>0.00</td>\n      <td>0.00</td>\n      <td>0.00</td>\n      <td>19:30:00</td>\n      <td>8.5</td>\n      <td>9.1</td>\n      <td>9.0</td>\n    </tr>\n    <tr>\n      <th>139001</th>\n      <td>2020-06-20</td>\n      <td>0.01</td>\n      <td>0.00</td>\n      <td>0.00</td>\n      <td>0.00</td>\n      <td>0.00</td>\n      <td>0.00</td>\n      <td>19:45:00</td>\n      <td>8.5</td>\n      <td>9.1</td>\n      <td>9.0</td>\n    </tr>\n    <tr>\n      <th>139002</th>\n      <td>2020-06-20</td>\n      <td>0.01</td>\n      <td>0.00</td>\n      <td>0.00</td>\n      <td>0.00</td>\n      <td>0.00</td>\n      <td>0.00</td>\n      <td>20:00:00</td>\n      <td>8.5</td>\n      <td>9.1</td>\n      <td>9.0</td>\n    </tr>\n    <tr>\n      <th>139003</th>\n      <td>2020-06-20</td>\n      <td>0.01</td>\n      <td>0.00</td>\n      <td>0.00</td>\n      <td>0.00</td>\n      <td>0.00</td>\n      <td>0.00</td>\n      <td>20:15:00</td>\n      <td>8.5</td>\n      <td>9.1</td>\n      <td>9.0</td>\n    </tr>\n    <tr>\n      <th>139004</th>\n      <td>2020-06-20</td>\n      <td>0.01</td>\n      <td>0.00</td>\n      <td>0.00</td>\n      <td>0.00</td>\n      <td>0.00</td>\n      <td>0.00</td>\n      <td>20:30:00</td>\n      <td>8.5</td>\n      <td>9.1</td>\n      <td>9.0</td>\n    </tr>\n    <tr>\n      <th>...</th>\n      <td>...</td>\n      <td>...</td>\n      <td>...</td>\n      <td>...</td>\n      <td>...</td>\n      <td>...</td>\n      <td>...</td>\n      <td>...</td>\n      <td>...</td>\n      <td>...</td>\n      <td>...</td>\n    </tr>\n    <tr>\n      <th>139995</th>\n      <td>2020-07-01</td>\n      <td>14.14</td>\n      <td>6.57</td>\n      <td>5.12</td>\n      <td>5.13</td>\n      <td>3.09</td>\n      <td>14.43</td>\n      <td>04:15:00</td>\n      <td>9.1</td>\n      <td>9.1</td>\n      <td>8.8</td>\n    </tr>\n    <tr>\n      <th>139996</th>\n      <td>2020-07-01</td>\n      <td>12.79</td>\n      <td>6.09</td>\n      <td>4.62</td>\n      <td>4.78</td>\n      <td>2.83</td>\n      <td>13.61</td>\n      <td>04:30:00</td>\n      <td>9.1</td>\n      <td>9.1</td>\n      <td>8.8</td>\n    </tr>\n    <tr>\n      <th>139997</th>\n      <td>2020-07-01</td>\n      <td>10.80</td>\n      <td>5.38</td>\n      <td>4.08</td>\n      <td>4.28</td>\n      <td>2.49</td>\n      <td>12.54</td>\n      <td>04:45:00</td>\n      <td>9.1</td>\n      <td>9.1</td>\n      <td>8.8</td>\n    </tr>\n    <tr>\n      <th>139998</th>\n      <td>2020-07-01</td>\n      <td>8.81</td>\n      <td>4.67</td>\n      <td>3.54</td>\n      <td>3.77</td>\n      <td>2.15</td>\n      <td>11.46</td>\n      <td>05:00:00</td>\n      <td>9.1</td>\n      <td>9.1</td>\n      <td>8.8</td>\n    </tr>\n    <tr>\n      <th>139999</th>\n      <td>2020-07-01</td>\n      <td>7.06</td>\n      <td>3.82</td>\n      <td>2.85</td>\n      <td>3.06</td>\n      <td>1.77</td>\n      <td>9.76</td>\n      <td>05:15:00</td>\n      <td>9.1</td>\n      <td>9.1</td>\n      <td>8.8</td>\n    </tr>\n  </tbody>\n</table>\n<p>1000 rows × 11 columns</p>\n</div>"
     },
     "metadata": {},
     "execution_count": 16
    }
   ],
   "source": [
    "solarmain_df1"
   ]
  },
  {
   "cell_type": "code",
   "execution_count": 17,
   "metadata": {},
   "outputs": [
    {
     "output_type": "execute_result",
     "data": {
      "text/plain": [
       "'2017-11-26'"
      ]
     },
     "metadata": {},
     "execution_count": 17
    }
   ],
   "source": [
    "solarexp_df.iat[1790,0]"
   ]
  },
  {
   "cell_type": "code",
   "execution_count": 18,
   "metadata": {},
   "outputs": [
    {
     "output_type": "execute_result",
     "data": {
      "text/plain": [
       "[1790]"
      ]
     },
     "metadata": {},
     "execution_count": 18
    }
   ],
   "source": [
    "removenull(solarexp_df)"
   ]
  },
  {
   "cell_type": "code",
   "execution_count": 19,
   "metadata": {},
   "outputs": [
    {
     "output_type": "execute_result",
     "data": {
      "text/plain": [
       "              Date  Solar0  Solar1  Solar2  Solar3  Solar4  Solar5      Time  \\\n",
       "0       2016-07-03     NaN     NaN     NaN     NaN     NaN     NaN  21:30:00   \n",
       "1       2016-07-03     NaN     NaN     NaN     NaN     NaN     NaN  21:45:00   \n",
       "2       2016-07-03     NaN     NaN     NaN     NaN     NaN     NaN  22:00:00   \n",
       "3       2016-07-03     NaN     NaN     NaN     NaN     NaN     NaN  22:15:00   \n",
       "4       2016-07-03     NaN     NaN     NaN     NaN     NaN     NaN  22:30:00   \n",
       "...            ...     ...     ...     ...     ...     ...     ...       ...   \n",
       "148805  2020-09-30   29.67    6.68    6.34    5.49    4.55   25.28  22:45:00   \n",
       "148806  2020-09-30   29.94    6.71    6.39    5.65    4.57   25.30  23:00:00   \n",
       "148807  2020-09-30   34.02    8.13    7.71    6.83    5.32   28.62  23:15:00   \n",
       "148808  2020-09-30   38.10    9.55    9.03    8.02    6.08   31.94  23:30:00   \n",
       "148809  2020-09-30   39.88   10.12    9.67    8.62    6.33   32.92  23:45:00   \n",
       "\n",
       "        olympic_solar  oakleigh_solar  moorabbin_solar  \n",
       "0                 7.8             6.8              5.5  \n",
       "1                 7.8             6.8              5.5  \n",
       "2                 7.8             6.8              5.5  \n",
       "3                 7.8             6.8              5.5  \n",
       "4                 7.8             6.8              5.5  \n",
       "...               ...             ...              ...  \n",
       "148805           13.0            12.6             12.8  \n",
       "148806           13.0            12.6             12.8  \n",
       "148807           13.0            12.6             12.8  \n",
       "148808           13.0            12.6             12.8  \n",
       "148809           13.0            12.6             12.8  \n",
       "\n",
       "[148810 rows x 11 columns]"
      ],
      "text/html": "<div>\n<style scoped>\n    .dataframe tbody tr th:only-of-type {\n        vertical-align: middle;\n    }\n\n    .dataframe tbody tr th {\n        vertical-align: top;\n    }\n\n    .dataframe thead th {\n        text-align: right;\n    }\n</style>\n<table border=\"1\" class=\"dataframe\">\n  <thead>\n    <tr style=\"text-align: right;\">\n      <th></th>\n      <th>Date</th>\n      <th>Solar0</th>\n      <th>Solar1</th>\n      <th>Solar2</th>\n      <th>Solar3</th>\n      <th>Solar4</th>\n      <th>Solar5</th>\n      <th>Time</th>\n      <th>olympic_solar</th>\n      <th>oakleigh_solar</th>\n      <th>moorabbin_solar</th>\n    </tr>\n  </thead>\n  <tbody>\n    <tr>\n      <th>0</th>\n      <td>2016-07-03</td>\n      <td>NaN</td>\n      <td>NaN</td>\n      <td>NaN</td>\n      <td>NaN</td>\n      <td>NaN</td>\n      <td>NaN</td>\n      <td>21:30:00</td>\n      <td>7.8</td>\n      <td>6.8</td>\n      <td>5.5</td>\n    </tr>\n    <tr>\n      <th>1</th>\n      <td>2016-07-03</td>\n      <td>NaN</td>\n      <td>NaN</td>\n      <td>NaN</td>\n      <td>NaN</td>\n      <td>NaN</td>\n      <td>NaN</td>\n      <td>21:45:00</td>\n      <td>7.8</td>\n      <td>6.8</td>\n      <td>5.5</td>\n    </tr>\n    <tr>\n      <th>2</th>\n      <td>2016-07-03</td>\n      <td>NaN</td>\n      <td>NaN</td>\n      <td>NaN</td>\n      <td>NaN</td>\n      <td>NaN</td>\n      <td>NaN</td>\n      <td>22:00:00</td>\n      <td>7.8</td>\n      <td>6.8</td>\n      <td>5.5</td>\n    </tr>\n    <tr>\n      <th>3</th>\n      <td>2016-07-03</td>\n      <td>NaN</td>\n      <td>NaN</td>\n      <td>NaN</td>\n      <td>NaN</td>\n      <td>NaN</td>\n      <td>NaN</td>\n      <td>22:15:00</td>\n      <td>7.8</td>\n      <td>6.8</td>\n      <td>5.5</td>\n    </tr>\n    <tr>\n      <th>4</th>\n      <td>2016-07-03</td>\n      <td>NaN</td>\n      <td>NaN</td>\n      <td>NaN</td>\n      <td>NaN</td>\n      <td>NaN</td>\n      <td>NaN</td>\n      <td>22:30:00</td>\n      <td>7.8</td>\n      <td>6.8</td>\n      <td>5.5</td>\n    </tr>\n    <tr>\n      <th>...</th>\n      <td>...</td>\n      <td>...</td>\n      <td>...</td>\n      <td>...</td>\n      <td>...</td>\n      <td>...</td>\n      <td>...</td>\n      <td>...</td>\n      <td>...</td>\n      <td>...</td>\n      <td>...</td>\n    </tr>\n    <tr>\n      <th>148805</th>\n      <td>2020-09-30</td>\n      <td>29.67</td>\n      <td>6.68</td>\n      <td>6.34</td>\n      <td>5.49</td>\n      <td>4.55</td>\n      <td>25.28</td>\n      <td>22:45:00</td>\n      <td>13.0</td>\n      <td>12.6</td>\n      <td>12.8</td>\n    </tr>\n    <tr>\n      <th>148806</th>\n      <td>2020-09-30</td>\n      <td>29.94</td>\n      <td>6.71</td>\n      <td>6.39</td>\n      <td>5.65</td>\n      <td>4.57</td>\n      <td>25.30</td>\n      <td>23:00:00</td>\n      <td>13.0</td>\n      <td>12.6</td>\n      <td>12.8</td>\n    </tr>\n    <tr>\n      <th>148807</th>\n      <td>2020-09-30</td>\n      <td>34.02</td>\n      <td>8.13</td>\n      <td>7.71</td>\n      <td>6.83</td>\n      <td>5.32</td>\n      <td>28.62</td>\n      <td>23:15:00</td>\n      <td>13.0</td>\n      <td>12.6</td>\n      <td>12.8</td>\n    </tr>\n    <tr>\n      <th>148808</th>\n      <td>2020-09-30</td>\n      <td>38.10</td>\n      <td>9.55</td>\n      <td>9.03</td>\n      <td>8.02</td>\n      <td>6.08</td>\n      <td>31.94</td>\n      <td>23:30:00</td>\n      <td>13.0</td>\n      <td>12.6</td>\n      <td>12.8</td>\n    </tr>\n    <tr>\n      <th>148809</th>\n      <td>2020-09-30</td>\n      <td>39.88</td>\n      <td>10.12</td>\n      <td>9.67</td>\n      <td>8.62</td>\n      <td>6.33</td>\n      <td>32.92</td>\n      <td>23:45:00</td>\n      <td>13.0</td>\n      <td>12.6</td>\n      <td>12.8</td>\n    </tr>\n  </tbody>\n</table>\n<p>148810 rows × 11 columns</p>\n</div>"
     },
     "metadata": {},
     "execution_count": 19
    }
   ],
   "source": [
    "solarmain_df"
   ]
  },
  {
   "cell_type": "code",
   "execution_count": 20,
   "metadata": {},
   "outputs": [
    {
     "output_type": "execute_result",
     "data": {
      "text/plain": [
       "              Date  Solar0  Solar1  Solar2  Solar3  Solar4  Solar5      Time  \\\n",
       "133602  2020-04-25    0.00    7.63    3.75    1.34    1.66    0.00  14:00:00   \n",
       "133603  2020-04-25    0.00    7.63    3.75    1.34    1.66    0.00  14:15:00   \n",
       "133604  2020-04-25    0.00    7.63    3.75    1.34    1.66    0.00  14:30:00   \n",
       "133605  2020-04-25    0.00    7.63    3.75    1.34    1.66    0.00  14:45:00   \n",
       "133606  2020-04-25    0.00    7.63    3.75    1.34    1.66    0.00  15:00:00   \n",
       "...            ...     ...     ...     ...     ...     ...     ...       ...   \n",
       "148805  2020-09-30   29.67    6.68    6.34    5.49    4.55   25.28  22:45:00   \n",
       "148806  2020-09-30   29.94    6.71    6.39    5.65    4.57   25.30  23:00:00   \n",
       "148807  2020-09-30   34.02    8.13    7.71    6.83    5.32   28.62  23:15:00   \n",
       "148808  2020-09-30   38.10    9.55    9.03    8.02    6.08   31.94  23:30:00   \n",
       "148809  2020-09-30   39.88   10.12    9.67    8.62    6.33   32.92  23:45:00   \n",
       "\n",
       "        olympic_solar  oakleigh_solar  moorabbin_solar  \n",
       "133602           10.4            10.6             10.2  \n",
       "133603           10.4            10.6             10.2  \n",
       "133604           10.4            10.6             10.2  \n",
       "133605           10.4            10.6             10.2  \n",
       "133606           10.4            10.6             10.2  \n",
       "...               ...             ...              ...  \n",
       "148805           13.0            12.6             12.8  \n",
       "148806           13.0            12.6             12.8  \n",
       "148807           13.0            12.6             12.8  \n",
       "148808           13.0            12.6             12.8  \n",
       "148809           13.0            12.6             12.8  \n",
       "\n",
       "[15208 rows x 11 columns]"
      ],
      "text/html": "<div>\n<style scoped>\n    .dataframe tbody tr th:only-of-type {\n        vertical-align: middle;\n    }\n\n    .dataframe tbody tr th {\n        vertical-align: top;\n    }\n\n    .dataframe thead th {\n        text-align: right;\n    }\n</style>\n<table border=\"1\" class=\"dataframe\">\n  <thead>\n    <tr style=\"text-align: right;\">\n      <th></th>\n      <th>Date</th>\n      <th>Solar0</th>\n      <th>Solar1</th>\n      <th>Solar2</th>\n      <th>Solar3</th>\n      <th>Solar4</th>\n      <th>Solar5</th>\n      <th>Time</th>\n      <th>olympic_solar</th>\n      <th>oakleigh_solar</th>\n      <th>moorabbin_solar</th>\n    </tr>\n  </thead>\n  <tbody>\n    <tr>\n      <th>133602</th>\n      <td>2020-04-25</td>\n      <td>0.00</td>\n      <td>7.63</td>\n      <td>3.75</td>\n      <td>1.34</td>\n      <td>1.66</td>\n      <td>0.00</td>\n      <td>14:00:00</td>\n      <td>10.4</td>\n      <td>10.6</td>\n      <td>10.2</td>\n    </tr>\n    <tr>\n      <th>133603</th>\n      <td>2020-04-25</td>\n      <td>0.00</td>\n      <td>7.63</td>\n      <td>3.75</td>\n      <td>1.34</td>\n      <td>1.66</td>\n      <td>0.00</td>\n      <td>14:15:00</td>\n      <td>10.4</td>\n      <td>10.6</td>\n      <td>10.2</td>\n    </tr>\n    <tr>\n      <th>133604</th>\n      <td>2020-04-25</td>\n      <td>0.00</td>\n      <td>7.63</td>\n      <td>3.75</td>\n      <td>1.34</td>\n      <td>1.66</td>\n      <td>0.00</td>\n      <td>14:30:00</td>\n      <td>10.4</td>\n      <td>10.6</td>\n      <td>10.2</td>\n    </tr>\n    <tr>\n      <th>133605</th>\n      <td>2020-04-25</td>\n      <td>0.00</td>\n      <td>7.63</td>\n      <td>3.75</td>\n      <td>1.34</td>\n      <td>1.66</td>\n      <td>0.00</td>\n      <td>14:45:00</td>\n      <td>10.4</td>\n      <td>10.6</td>\n      <td>10.2</td>\n    </tr>\n    <tr>\n      <th>133606</th>\n      <td>2020-04-25</td>\n      <td>0.00</td>\n      <td>7.63</td>\n      <td>3.75</td>\n      <td>1.34</td>\n      <td>1.66</td>\n      <td>0.00</td>\n      <td>15:00:00</td>\n      <td>10.4</td>\n      <td>10.6</td>\n      <td>10.2</td>\n    </tr>\n    <tr>\n      <th>...</th>\n      <td>...</td>\n      <td>...</td>\n      <td>...</td>\n      <td>...</td>\n      <td>...</td>\n      <td>...</td>\n      <td>...</td>\n      <td>...</td>\n      <td>...</td>\n      <td>...</td>\n      <td>...</td>\n    </tr>\n    <tr>\n      <th>148805</th>\n      <td>2020-09-30</td>\n      <td>29.67</td>\n      <td>6.68</td>\n      <td>6.34</td>\n      <td>5.49</td>\n      <td>4.55</td>\n      <td>25.28</td>\n      <td>22:45:00</td>\n      <td>13.0</td>\n      <td>12.6</td>\n      <td>12.8</td>\n    </tr>\n    <tr>\n      <th>148806</th>\n      <td>2020-09-30</td>\n      <td>29.94</td>\n      <td>6.71</td>\n      <td>6.39</td>\n      <td>5.65</td>\n      <td>4.57</td>\n      <td>25.30</td>\n      <td>23:00:00</td>\n      <td>13.0</td>\n      <td>12.6</td>\n      <td>12.8</td>\n    </tr>\n    <tr>\n      <th>148807</th>\n      <td>2020-09-30</td>\n      <td>34.02</td>\n      <td>8.13</td>\n      <td>7.71</td>\n      <td>6.83</td>\n      <td>5.32</td>\n      <td>28.62</td>\n      <td>23:15:00</td>\n      <td>13.0</td>\n      <td>12.6</td>\n      <td>12.8</td>\n    </tr>\n    <tr>\n      <th>148808</th>\n      <td>2020-09-30</td>\n      <td>38.10</td>\n      <td>9.55</td>\n      <td>9.03</td>\n      <td>8.02</td>\n      <td>6.08</td>\n      <td>31.94</td>\n      <td>23:30:00</td>\n      <td>13.0</td>\n      <td>12.6</td>\n      <td>12.8</td>\n    </tr>\n    <tr>\n      <th>148809</th>\n      <td>2020-09-30</td>\n      <td>39.88</td>\n      <td>10.12</td>\n      <td>9.67</td>\n      <td>8.62</td>\n      <td>6.33</td>\n      <td>32.92</td>\n      <td>23:45:00</td>\n      <td>13.0</td>\n      <td>12.6</td>\n      <td>12.8</td>\n    </tr>\n  </tbody>\n</table>\n<p>15208 rows × 11 columns</p>\n</div>"
     },
     "metadata": {},
     "execution_count": 20
    }
   ],
   "source": [
    "solarmain_df.drop(removenull(solarmain_df), axis = 0)"
   ]
  },
  {
   "cell_type": "code",
   "execution_count": 228,
   "metadata": {},
   "outputs": [
    {
     "output_type": "execute_result",
     "data": {
      "text/plain": [
       "              Date  Solar0  Solar1  Solar2  Solar3  Solar4  Solar5      Time  \\\n",
       "139000  2020-06-20    0.01    0.00    0.00    0.00    0.00    0.00  19:30:00   \n",
       "139001  2020-06-20    0.01    0.00    0.00    0.00    0.00    0.00  19:45:00   \n",
       "139002  2020-06-20    0.01    0.00    0.00    0.00    0.00    0.00  20:00:00   \n",
       "139003  2020-06-20    0.01    0.00    0.00    0.00    0.00    0.00  20:15:00   \n",
       "139004  2020-06-20    0.01    0.00    0.00    0.00    0.00    0.00  20:30:00   \n",
       "...            ...     ...     ...     ...     ...     ...     ...       ...   \n",
       "139995  2020-07-01   14.14    6.57    5.12    5.13    3.09   14.43  04:15:00   \n",
       "139996  2020-07-01   12.79    6.09    4.62    4.78    2.83   13.61  04:30:00   \n",
       "139997  2020-07-01   10.80    5.38    4.08    4.28    2.49   12.54  04:45:00   \n",
       "139998  2020-07-01    8.81    4.67    3.54    3.77    2.15   11.46  05:00:00   \n",
       "139999  2020-07-01    7.06    3.82    2.85    3.06    1.77    9.76  05:15:00   \n",
       "\n",
       "        olympic_solar  oakleigh_solar  moorabbin_solar  \n",
       "139000            8.5             9.1              9.0  \n",
       "139001            8.5             9.1              9.0  \n",
       "139002            8.5             9.1              9.0  \n",
       "139003            8.5             9.1              9.0  \n",
       "139004            8.5             9.1              9.0  \n",
       "...               ...             ...              ...  \n",
       "139995            9.1             9.1              8.8  \n",
       "139996            9.1             9.1              8.8  \n",
       "139997            9.1             9.1              8.8  \n",
       "139998            9.1             9.1              8.8  \n",
       "139999            9.1             9.1              8.8  \n",
       "\n",
       "[1000 rows x 11 columns]"
      ],
      "text/html": "<div>\n<style scoped>\n    .dataframe tbody tr th:only-of-type {\n        vertical-align: middle;\n    }\n\n    .dataframe tbody tr th {\n        vertical-align: top;\n    }\n\n    .dataframe thead th {\n        text-align: right;\n    }\n</style>\n<table border=\"1\" class=\"dataframe\">\n  <thead>\n    <tr style=\"text-align: right;\">\n      <th></th>\n      <th>Date</th>\n      <th>Solar0</th>\n      <th>Solar1</th>\n      <th>Solar2</th>\n      <th>Solar3</th>\n      <th>Solar4</th>\n      <th>Solar5</th>\n      <th>Time</th>\n      <th>olympic_solar</th>\n      <th>oakleigh_solar</th>\n      <th>moorabbin_solar</th>\n    </tr>\n  </thead>\n  <tbody>\n    <tr>\n      <th>139000</th>\n      <td>2020-06-20</td>\n      <td>0.01</td>\n      <td>0.00</td>\n      <td>0.00</td>\n      <td>0.00</td>\n      <td>0.00</td>\n      <td>0.00</td>\n      <td>19:30:00</td>\n      <td>8.5</td>\n      <td>9.1</td>\n      <td>9.0</td>\n    </tr>\n    <tr>\n      <th>139001</th>\n      <td>2020-06-20</td>\n      <td>0.01</td>\n      <td>0.00</td>\n      <td>0.00</td>\n      <td>0.00</td>\n      <td>0.00</td>\n      <td>0.00</td>\n      <td>19:45:00</td>\n      <td>8.5</td>\n      <td>9.1</td>\n      <td>9.0</td>\n    </tr>\n    <tr>\n      <th>139002</th>\n      <td>2020-06-20</td>\n      <td>0.01</td>\n      <td>0.00</td>\n      <td>0.00</td>\n      <td>0.00</td>\n      <td>0.00</td>\n      <td>0.00</td>\n      <td>20:00:00</td>\n      <td>8.5</td>\n      <td>9.1</td>\n      <td>9.0</td>\n    </tr>\n    <tr>\n      <th>139003</th>\n      <td>2020-06-20</td>\n      <td>0.01</td>\n      <td>0.00</td>\n      <td>0.00</td>\n      <td>0.00</td>\n      <td>0.00</td>\n      <td>0.00</td>\n      <td>20:15:00</td>\n      <td>8.5</td>\n      <td>9.1</td>\n      <td>9.0</td>\n    </tr>\n    <tr>\n      <th>139004</th>\n      <td>2020-06-20</td>\n      <td>0.01</td>\n      <td>0.00</td>\n      <td>0.00</td>\n      <td>0.00</td>\n      <td>0.00</td>\n      <td>0.00</td>\n      <td>20:30:00</td>\n      <td>8.5</td>\n      <td>9.1</td>\n      <td>9.0</td>\n    </tr>\n    <tr>\n      <th>...</th>\n      <td>...</td>\n      <td>...</td>\n      <td>...</td>\n      <td>...</td>\n      <td>...</td>\n      <td>...</td>\n      <td>...</td>\n      <td>...</td>\n      <td>...</td>\n      <td>...</td>\n      <td>...</td>\n    </tr>\n    <tr>\n      <th>139995</th>\n      <td>2020-07-01</td>\n      <td>14.14</td>\n      <td>6.57</td>\n      <td>5.12</td>\n      <td>5.13</td>\n      <td>3.09</td>\n      <td>14.43</td>\n      <td>04:15:00</td>\n      <td>9.1</td>\n      <td>9.1</td>\n      <td>8.8</td>\n    </tr>\n    <tr>\n      <th>139996</th>\n      <td>2020-07-01</td>\n      <td>12.79</td>\n      <td>6.09</td>\n      <td>4.62</td>\n      <td>4.78</td>\n      <td>2.83</td>\n      <td>13.61</td>\n      <td>04:30:00</td>\n      <td>9.1</td>\n      <td>9.1</td>\n      <td>8.8</td>\n    </tr>\n    <tr>\n      <th>139997</th>\n      <td>2020-07-01</td>\n      <td>10.80</td>\n      <td>5.38</td>\n      <td>4.08</td>\n      <td>4.28</td>\n      <td>2.49</td>\n      <td>12.54</td>\n      <td>04:45:00</td>\n      <td>9.1</td>\n      <td>9.1</td>\n      <td>8.8</td>\n    </tr>\n    <tr>\n      <th>139998</th>\n      <td>2020-07-01</td>\n      <td>8.81</td>\n      <td>4.67</td>\n      <td>3.54</td>\n      <td>3.77</td>\n      <td>2.15</td>\n      <td>11.46</td>\n      <td>05:00:00</td>\n      <td>9.1</td>\n      <td>9.1</td>\n      <td>8.8</td>\n    </tr>\n    <tr>\n      <th>139999</th>\n      <td>2020-07-01</td>\n      <td>7.06</td>\n      <td>3.82</td>\n      <td>2.85</td>\n      <td>3.06</td>\n      <td>1.77</td>\n      <td>9.76</td>\n      <td>05:15:00</td>\n      <td>9.1</td>\n      <td>9.1</td>\n      <td>8.8</td>\n    </tr>\n  </tbody>\n</table>\n<p>1000 rows × 11 columns</p>\n</div>"
     },
     "metadata": {},
     "execution_count": 228
    }
   ],
   "source": [
    "solarmain_df"
   ]
  },
  {
   "cell_type": "code",
   "execution_count": 21,
   "metadata": {},
   "outputs": [],
   "source": [
    "solarmain_df.to_csv('solar.csv')"
   ]
  },
  {
   "cell_type": "code",
   "execution_count": null,
   "metadata": {},
   "outputs": [],
   "source": []
  }
 ]
}